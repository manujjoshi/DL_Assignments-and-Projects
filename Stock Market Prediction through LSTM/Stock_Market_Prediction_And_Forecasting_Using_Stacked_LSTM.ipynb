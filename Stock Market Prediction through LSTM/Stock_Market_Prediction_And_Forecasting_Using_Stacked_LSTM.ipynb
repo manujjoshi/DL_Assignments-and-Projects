{
  "cells": [
    {
      "cell_type": "markdown",
      "metadata": {
        "id": "ckj3Pg8qazwq"
      },
      "source": [
        "# **Stock Market Prediction And Forecasting Using Stacked LSTM**"
      ]
    },
    {
      "cell_type": "code",
      "execution_count": 80,
      "metadata": {
        "id": "yUS0BZIAazws"
      },
      "outputs": [],
      "source": [
        "### Keras and Tensorflow >2.0"
      ]
    },
    {
      "cell_type": "code",
      "execution_count": 81,
      "metadata": {
        "id": "CN67Apdeazwu"
      },
      "outputs": [],
      "source": [
        "### Data Collection\n",
        "import pandas_datareader as pdr"
      ]
    },
    {
      "cell_type": "code",
      "execution_count": 82,
      "metadata": {
        "id": "WdIgvr20azwu",
        "outputId": "ee9a5c19-6981-4bc4-b3af-d344499b5e19",
        "colab": {
          "base_uri": "https://localhost:8080/"
        }
      },
      "outputs": [
        {
          "output_type": "stream",
          "name": "stderr",
          "text": [
            "/usr/local/lib/python3.7/dist-packages/pandas_datareader/tiingo.py:234: FutureWarning: In a future version of pandas all arguments of concat except for the argument 'objs' will be keyword-only\n",
            "  return pd.concat(dfs, self._concat_axis)\n"
          ]
        }
      ],
      "source": [
        "df = pdr.get_data_tiingo('AAPL', api_key='d2afd51fff81280f3c5400c96c62b95ac0999b33')"
      ]
    },
    {
      "cell_type": "code",
      "execution_count": 83,
      "metadata": {
        "id": "G0CKyYTeazwv"
      },
      "outputs": [],
      "source": [
        "df.to_csv('/content/AAPL.csv')"
      ]
    },
    {
      "cell_type": "code",
      "execution_count": 84,
      "metadata": {
        "id": "jKCt-ySJazww"
      },
      "outputs": [],
      "source": [
        "import pandas as pd"
      ]
    },
    {
      "cell_type": "code",
      "execution_count": 85,
      "metadata": {
        "id": "pfqgTZhvazwx"
      },
      "outputs": [],
      "source": [
        "df=pd.read_csv('AAPL.csv')"
      ]
    },
    {
      "cell_type": "code",
      "execution_count": 86,
      "metadata": {
        "id": "KFSCILR4azw1",
        "outputId": "06b201d9-f5cf-48ea-b913-d6bc3e7adafd",
        "colab": {
          "base_uri": "https://localhost:8080/",
          "height": 206
        }
      },
      "outputs": [
        {
          "output_type": "execute_result",
          "data": {
            "text/html": [
              "\n",
              "  <div id=\"df-e82afda9-f092-4328-9f6a-40e6c26004ea\">\n",
              "    <div class=\"colab-df-container\">\n",
              "      <div>\n",
              "<style scoped>\n",
              "    .dataframe tbody tr th:only-of-type {\n",
              "        vertical-align: middle;\n",
              "    }\n",
              "\n",
              "    .dataframe tbody tr th {\n",
              "        vertical-align: top;\n",
              "    }\n",
              "\n",
              "    .dataframe thead th {\n",
              "        text-align: right;\n",
              "    }\n",
              "</style>\n",
              "<table border=\"1\" class=\"dataframe\">\n",
              "  <thead>\n",
              "    <tr style=\"text-align: right;\">\n",
              "      <th></th>\n",
              "      <th>symbol</th>\n",
              "      <th>date</th>\n",
              "      <th>close</th>\n",
              "      <th>high</th>\n",
              "      <th>low</th>\n",
              "      <th>open</th>\n",
              "      <th>volume</th>\n",
              "      <th>adjClose</th>\n",
              "      <th>adjHigh</th>\n",
              "      <th>adjLow</th>\n",
              "      <th>adjOpen</th>\n",
              "      <th>adjVolume</th>\n",
              "      <th>divCash</th>\n",
              "      <th>splitFactor</th>\n",
              "    </tr>\n",
              "  </thead>\n",
              "  <tbody>\n",
              "    <tr>\n",
              "      <th>0</th>\n",
              "      <td>AAPL</td>\n",
              "      <td>2017-02-06 00:00:00+00:00</td>\n",
              "      <td>130.29</td>\n",
              "      <td>130.500</td>\n",
              "      <td>128.90</td>\n",
              "      <td>129.13</td>\n",
              "      <td>26845924</td>\n",
              "      <td>30.656220</td>\n",
              "      <td>30.705632</td>\n",
              "      <td>30.329164</td>\n",
              "      <td>30.383281</td>\n",
              "      <td>107383696</td>\n",
              "      <td>0.00</td>\n",
              "      <td>1.0</td>\n",
              "    </tr>\n",
              "    <tr>\n",
              "      <th>1</th>\n",
              "      <td>AAPL</td>\n",
              "      <td>2017-02-07 00:00:00+00:00</td>\n",
              "      <td>131.53</td>\n",
              "      <td>132.090</td>\n",
              "      <td>130.45</td>\n",
              "      <td>130.54</td>\n",
              "      <td>38183841</td>\n",
              "      <td>30.947983</td>\n",
              "      <td>31.079746</td>\n",
              "      <td>30.693867</td>\n",
              "      <td>30.715043</td>\n",
              "      <td>152735364</td>\n",
              "      <td>0.00</td>\n",
              "      <td>1.0</td>\n",
              "    </tr>\n",
              "    <tr>\n",
              "      <th>2</th>\n",
              "      <td>AAPL</td>\n",
              "      <td>2017-02-08 00:00:00+00:00</td>\n",
              "      <td>132.04</td>\n",
              "      <td>132.220</td>\n",
              "      <td>131.22</td>\n",
              "      <td>131.35</td>\n",
              "      <td>23004072</td>\n",
              "      <td>31.067982</td>\n",
              "      <td>31.110334</td>\n",
              "      <td>30.875042</td>\n",
              "      <td>30.905630</td>\n",
              "      <td>92016288</td>\n",
              "      <td>0.00</td>\n",
              "      <td>1.0</td>\n",
              "    </tr>\n",
              "    <tr>\n",
              "      <th>3</th>\n",
              "      <td>AAPL</td>\n",
              "      <td>2017-02-09 00:00:00+00:00</td>\n",
              "      <td>132.42</td>\n",
              "      <td>132.445</td>\n",
              "      <td>131.12</td>\n",
              "      <td>131.65</td>\n",
              "      <td>28349859</td>\n",
              "      <td>31.291509</td>\n",
              "      <td>31.297417</td>\n",
              "      <td>30.984313</td>\n",
              "      <td>31.109554</td>\n",
              "      <td>113399436</td>\n",
              "      <td>0.57</td>\n",
              "      <td>1.0</td>\n",
              "    </tr>\n",
              "    <tr>\n",
              "      <th>4</th>\n",
              "      <td>AAPL</td>\n",
              "      <td>2017-02-10 00:00:00+00:00</td>\n",
              "      <td>132.12</td>\n",
              "      <td>132.940</td>\n",
              "      <td>132.05</td>\n",
              "      <td>132.46</td>\n",
              "      <td>20065458</td>\n",
              "      <td>31.220618</td>\n",
              "      <td>31.414388</td>\n",
              "      <td>31.204076</td>\n",
              "      <td>31.300961</td>\n",
              "      <td>80261832</td>\n",
              "      <td>0.00</td>\n",
              "      <td>1.0</td>\n",
              "    </tr>\n",
              "  </tbody>\n",
              "</table>\n",
              "</div>\n",
              "      <button class=\"colab-df-convert\" onclick=\"convertToInteractive('df-e82afda9-f092-4328-9f6a-40e6c26004ea')\"\n",
              "              title=\"Convert this dataframe to an interactive table.\"\n",
              "              style=\"display:none;\">\n",
              "        \n",
              "  <svg xmlns=\"http://www.w3.org/2000/svg\" height=\"24px\"viewBox=\"0 0 24 24\"\n",
              "       width=\"24px\">\n",
              "    <path d=\"M0 0h24v24H0V0z\" fill=\"none\"/>\n",
              "    <path d=\"M18.56 5.44l.94 2.06.94-2.06 2.06-.94-2.06-.94-.94-2.06-.94 2.06-2.06.94zm-11 1L8.5 8.5l.94-2.06 2.06-.94-2.06-.94L8.5 2.5l-.94 2.06-2.06.94zm10 10l.94 2.06.94-2.06 2.06-.94-2.06-.94-.94-2.06-.94 2.06-2.06.94z\"/><path d=\"M17.41 7.96l-1.37-1.37c-.4-.4-.92-.59-1.43-.59-.52 0-1.04.2-1.43.59L10.3 9.45l-7.72 7.72c-.78.78-.78 2.05 0 2.83L4 21.41c.39.39.9.59 1.41.59.51 0 1.02-.2 1.41-.59l7.78-7.78 2.81-2.81c.8-.78.8-2.07 0-2.86zM5.41 20L4 18.59l7.72-7.72 1.47 1.35L5.41 20z\"/>\n",
              "  </svg>\n",
              "      </button>\n",
              "      \n",
              "  <style>\n",
              "    .colab-df-container {\n",
              "      display:flex;\n",
              "      flex-wrap:wrap;\n",
              "      gap: 12px;\n",
              "    }\n",
              "\n",
              "    .colab-df-convert {\n",
              "      background-color: #E8F0FE;\n",
              "      border: none;\n",
              "      border-radius: 50%;\n",
              "      cursor: pointer;\n",
              "      display: none;\n",
              "      fill: #1967D2;\n",
              "      height: 32px;\n",
              "      padding: 0 0 0 0;\n",
              "      width: 32px;\n",
              "    }\n",
              "\n",
              "    .colab-df-convert:hover {\n",
              "      background-color: #E2EBFA;\n",
              "      box-shadow: 0px 1px 2px rgba(60, 64, 67, 0.3), 0px 1px 3px 1px rgba(60, 64, 67, 0.15);\n",
              "      fill: #174EA6;\n",
              "    }\n",
              "\n",
              "    [theme=dark] .colab-df-convert {\n",
              "      background-color: #3B4455;\n",
              "      fill: #D2E3FC;\n",
              "    }\n",
              "\n",
              "    [theme=dark] .colab-df-convert:hover {\n",
              "      background-color: #434B5C;\n",
              "      box-shadow: 0px 1px 3px 1px rgba(0, 0, 0, 0.15);\n",
              "      filter: drop-shadow(0px 1px 2px rgba(0, 0, 0, 0.3));\n",
              "      fill: #FFFFFF;\n",
              "    }\n",
              "  </style>\n",
              "\n",
              "      <script>\n",
              "        const buttonEl =\n",
              "          document.querySelector('#df-e82afda9-f092-4328-9f6a-40e6c26004ea button.colab-df-convert');\n",
              "        buttonEl.style.display =\n",
              "          google.colab.kernel.accessAllowed ? 'block' : 'none';\n",
              "\n",
              "        async function convertToInteractive(key) {\n",
              "          const element = document.querySelector('#df-e82afda9-f092-4328-9f6a-40e6c26004ea');\n",
              "          const dataTable =\n",
              "            await google.colab.kernel.invokeFunction('convertToInteractive',\n",
              "                                                     [key], {});\n",
              "          if (!dataTable) return;\n",
              "\n",
              "          const docLinkHtml = 'Like what you see? Visit the ' +\n",
              "            '<a target=\"_blank\" href=https://colab.research.google.com/notebooks/data_table.ipynb>data table notebook</a>'\n",
              "            + ' to learn more about interactive tables.';\n",
              "          element.innerHTML = '';\n",
              "          dataTable['output_type'] = 'display_data';\n",
              "          await google.colab.output.renderOutput(dataTable, element);\n",
              "          const docLink = document.createElement('div');\n",
              "          docLink.innerHTML = docLinkHtml;\n",
              "          element.appendChild(docLink);\n",
              "        }\n",
              "      </script>\n",
              "    </div>\n",
              "  </div>\n",
              "  "
            ],
            "text/plain": [
              "  symbol                       date   close  ...  adjVolume  divCash  splitFactor\n",
              "0   AAPL  2017-02-06 00:00:00+00:00  130.29  ...  107383696     0.00          1.0\n",
              "1   AAPL  2017-02-07 00:00:00+00:00  131.53  ...  152735364     0.00          1.0\n",
              "2   AAPL  2017-02-08 00:00:00+00:00  132.04  ...   92016288     0.00          1.0\n",
              "3   AAPL  2017-02-09 00:00:00+00:00  132.42  ...  113399436     0.57          1.0\n",
              "4   AAPL  2017-02-10 00:00:00+00:00  132.12  ...   80261832     0.00          1.0\n",
              "\n",
              "[5 rows x 14 columns]"
            ]
          },
          "metadata": {},
          "execution_count": 86
        }
      ],
      "source": [
        "df.head()"
      ]
    },
    {
      "cell_type": "code",
      "execution_count": 87,
      "metadata": {
        "id": "F01wrLL_azw5",
        "outputId": "af633ede-a837-4b47-9309-0dcc2f777423",
        "colab": {
          "base_uri": "https://localhost:8080/",
          "height": 206
        }
      },
      "outputs": [
        {
          "output_type": "execute_result",
          "data": {
            "text/html": [
              "\n",
              "  <div id=\"df-44ba8a7c-9178-43c7-879c-9cf68f6ac6a2\">\n",
              "    <div class=\"colab-df-container\">\n",
              "      <div>\n",
              "<style scoped>\n",
              "    .dataframe tbody tr th:only-of-type {\n",
              "        vertical-align: middle;\n",
              "    }\n",
              "\n",
              "    .dataframe tbody tr th {\n",
              "        vertical-align: top;\n",
              "    }\n",
              "\n",
              "    .dataframe thead th {\n",
              "        text-align: right;\n",
              "    }\n",
              "</style>\n",
              "<table border=\"1\" class=\"dataframe\">\n",
              "  <thead>\n",
              "    <tr style=\"text-align: right;\">\n",
              "      <th></th>\n",
              "      <th>symbol</th>\n",
              "      <th>date</th>\n",
              "      <th>close</th>\n",
              "      <th>high</th>\n",
              "      <th>low</th>\n",
              "      <th>open</th>\n",
              "      <th>volume</th>\n",
              "      <th>adjClose</th>\n",
              "      <th>adjHigh</th>\n",
              "      <th>adjLow</th>\n",
              "      <th>adjOpen</th>\n",
              "      <th>adjVolume</th>\n",
              "      <th>divCash</th>\n",
              "      <th>splitFactor</th>\n",
              "    </tr>\n",
              "  </thead>\n",
              "  <tbody>\n",
              "    <tr>\n",
              "      <th>1254</th>\n",
              "      <td>AAPL</td>\n",
              "      <td>2022-01-28 00:00:00+00:00</td>\n",
              "      <td>170.33</td>\n",
              "      <td>170.3500</td>\n",
              "      <td>162.80</td>\n",
              "      <td>165.710</td>\n",
              "      <td>179935660</td>\n",
              "      <td>170.33</td>\n",
              "      <td>170.3500</td>\n",
              "      <td>162.80</td>\n",
              "      <td>165.710</td>\n",
              "      <td>179935660</td>\n",
              "      <td>0.0</td>\n",
              "      <td>1.0</td>\n",
              "    </tr>\n",
              "    <tr>\n",
              "      <th>1255</th>\n",
              "      <td>AAPL</td>\n",
              "      <td>2022-01-31 00:00:00+00:00</td>\n",
              "      <td>174.78</td>\n",
              "      <td>175.0000</td>\n",
              "      <td>169.51</td>\n",
              "      <td>170.160</td>\n",
              "      <td>115541590</td>\n",
              "      <td>174.78</td>\n",
              "      <td>175.0000</td>\n",
              "      <td>169.51</td>\n",
              "      <td>170.160</td>\n",
              "      <td>115541590</td>\n",
              "      <td>0.0</td>\n",
              "      <td>1.0</td>\n",
              "    </tr>\n",
              "    <tr>\n",
              "      <th>1256</th>\n",
              "      <td>AAPL</td>\n",
              "      <td>2022-02-01 00:00:00+00:00</td>\n",
              "      <td>174.61</td>\n",
              "      <td>174.8400</td>\n",
              "      <td>172.31</td>\n",
              "      <td>174.010</td>\n",
              "      <td>86213911</td>\n",
              "      <td>174.61</td>\n",
              "      <td>174.8400</td>\n",
              "      <td>172.31</td>\n",
              "      <td>174.010</td>\n",
              "      <td>86213911</td>\n",
              "      <td>0.0</td>\n",
              "      <td>1.0</td>\n",
              "    </tr>\n",
              "    <tr>\n",
              "      <th>1257</th>\n",
              "      <td>AAPL</td>\n",
              "      <td>2022-02-02 00:00:00+00:00</td>\n",
              "      <td>175.84</td>\n",
              "      <td>175.8800</td>\n",
              "      <td>173.33</td>\n",
              "      <td>174.745</td>\n",
              "      <td>84914256</td>\n",
              "      <td>175.84</td>\n",
              "      <td>175.8800</td>\n",
              "      <td>173.33</td>\n",
              "      <td>174.745</td>\n",
              "      <td>84914256</td>\n",
              "      <td>0.0</td>\n",
              "      <td>1.0</td>\n",
              "    </tr>\n",
              "    <tr>\n",
              "      <th>1258</th>\n",
              "      <td>AAPL</td>\n",
              "      <td>2022-02-03 00:00:00+00:00</td>\n",
              "      <td>172.90</td>\n",
              "      <td>176.2399</td>\n",
              "      <td>172.12</td>\n",
              "      <td>174.480</td>\n",
              "      <td>89418074</td>\n",
              "      <td>172.90</td>\n",
              "      <td>176.2399</td>\n",
              "      <td>172.12</td>\n",
              "      <td>174.480</td>\n",
              "      <td>89418074</td>\n",
              "      <td>0.0</td>\n",
              "      <td>1.0</td>\n",
              "    </tr>\n",
              "  </tbody>\n",
              "</table>\n",
              "</div>\n",
              "      <button class=\"colab-df-convert\" onclick=\"convertToInteractive('df-44ba8a7c-9178-43c7-879c-9cf68f6ac6a2')\"\n",
              "              title=\"Convert this dataframe to an interactive table.\"\n",
              "              style=\"display:none;\">\n",
              "        \n",
              "  <svg xmlns=\"http://www.w3.org/2000/svg\" height=\"24px\"viewBox=\"0 0 24 24\"\n",
              "       width=\"24px\">\n",
              "    <path d=\"M0 0h24v24H0V0z\" fill=\"none\"/>\n",
              "    <path d=\"M18.56 5.44l.94 2.06.94-2.06 2.06-.94-2.06-.94-.94-2.06-.94 2.06-2.06.94zm-11 1L8.5 8.5l.94-2.06 2.06-.94-2.06-.94L8.5 2.5l-.94 2.06-2.06.94zm10 10l.94 2.06.94-2.06 2.06-.94-2.06-.94-.94-2.06-.94 2.06-2.06.94z\"/><path d=\"M17.41 7.96l-1.37-1.37c-.4-.4-.92-.59-1.43-.59-.52 0-1.04.2-1.43.59L10.3 9.45l-7.72 7.72c-.78.78-.78 2.05 0 2.83L4 21.41c.39.39.9.59 1.41.59.51 0 1.02-.2 1.41-.59l7.78-7.78 2.81-2.81c.8-.78.8-2.07 0-2.86zM5.41 20L4 18.59l7.72-7.72 1.47 1.35L5.41 20z\"/>\n",
              "  </svg>\n",
              "      </button>\n",
              "      \n",
              "  <style>\n",
              "    .colab-df-container {\n",
              "      display:flex;\n",
              "      flex-wrap:wrap;\n",
              "      gap: 12px;\n",
              "    }\n",
              "\n",
              "    .colab-df-convert {\n",
              "      background-color: #E8F0FE;\n",
              "      border: none;\n",
              "      border-radius: 50%;\n",
              "      cursor: pointer;\n",
              "      display: none;\n",
              "      fill: #1967D2;\n",
              "      height: 32px;\n",
              "      padding: 0 0 0 0;\n",
              "      width: 32px;\n",
              "    }\n",
              "\n",
              "    .colab-df-convert:hover {\n",
              "      background-color: #E2EBFA;\n",
              "      box-shadow: 0px 1px 2px rgba(60, 64, 67, 0.3), 0px 1px 3px 1px rgba(60, 64, 67, 0.15);\n",
              "      fill: #174EA6;\n",
              "    }\n",
              "\n",
              "    [theme=dark] .colab-df-convert {\n",
              "      background-color: #3B4455;\n",
              "      fill: #D2E3FC;\n",
              "    }\n",
              "\n",
              "    [theme=dark] .colab-df-convert:hover {\n",
              "      background-color: #434B5C;\n",
              "      box-shadow: 0px 1px 3px 1px rgba(0, 0, 0, 0.15);\n",
              "      filter: drop-shadow(0px 1px 2px rgba(0, 0, 0, 0.3));\n",
              "      fill: #FFFFFF;\n",
              "    }\n",
              "  </style>\n",
              "\n",
              "      <script>\n",
              "        const buttonEl =\n",
              "          document.querySelector('#df-44ba8a7c-9178-43c7-879c-9cf68f6ac6a2 button.colab-df-convert');\n",
              "        buttonEl.style.display =\n",
              "          google.colab.kernel.accessAllowed ? 'block' : 'none';\n",
              "\n",
              "        async function convertToInteractive(key) {\n",
              "          const element = document.querySelector('#df-44ba8a7c-9178-43c7-879c-9cf68f6ac6a2');\n",
              "          const dataTable =\n",
              "            await google.colab.kernel.invokeFunction('convertToInteractive',\n",
              "                                                     [key], {});\n",
              "          if (!dataTable) return;\n",
              "\n",
              "          const docLinkHtml = 'Like what you see? Visit the ' +\n",
              "            '<a target=\"_blank\" href=https://colab.research.google.com/notebooks/data_table.ipynb>data table notebook</a>'\n",
              "            + ' to learn more about interactive tables.';\n",
              "          element.innerHTML = '';\n",
              "          dataTable['output_type'] = 'display_data';\n",
              "          await google.colab.output.renderOutput(dataTable, element);\n",
              "          const docLink = document.createElement('div');\n",
              "          docLink.innerHTML = docLinkHtml;\n",
              "          element.appendChild(docLink);\n",
              "        }\n",
              "      </script>\n",
              "    </div>\n",
              "  </div>\n",
              "  "
            ],
            "text/plain": [
              "     symbol                       date   close  ...  adjVolume  divCash  splitFactor\n",
              "1254   AAPL  2022-01-28 00:00:00+00:00  170.33  ...  179935660      0.0          1.0\n",
              "1255   AAPL  2022-01-31 00:00:00+00:00  174.78  ...  115541590      0.0          1.0\n",
              "1256   AAPL  2022-02-01 00:00:00+00:00  174.61  ...   86213911      0.0          1.0\n",
              "1257   AAPL  2022-02-02 00:00:00+00:00  175.84  ...   84914256      0.0          1.0\n",
              "1258   AAPL  2022-02-03 00:00:00+00:00  172.90  ...   89418074      0.0          1.0\n",
              "\n",
              "[5 rows x 14 columns]"
            ]
          },
          "metadata": {},
          "execution_count": 87
        }
      ],
      "source": [
        "df.tail()"
      ]
    },
    {
      "cell_type": "markdown",
      "source": [
        "## **using only close feature**"
      ],
      "metadata": {
        "id": "iv7aHSwtmeQ6"
      }
    },
    {
      "cell_type": "code",
      "execution_count": 88,
      "metadata": {
        "id": "VzSXLl5yazw8"
      },
      "outputs": [],
      "source": [
        "df1=df.reset_index()['close']"
      ]
    },
    {
      "cell_type": "code",
      "execution_count": 89,
      "metadata": {
        "id": "85u7sod6azw9",
        "outputId": "2608e48c-d5a8-4006-93a0-cb0fc45d65e4",
        "colab": {
          "base_uri": "https://localhost:8080/"
        }
      },
      "outputs": [
        {
          "output_type": "execute_result",
          "data": {
            "text/plain": [
              "(1259,)"
            ]
          },
          "metadata": {},
          "execution_count": 89
        }
      ],
      "source": [
        "df1.shape"
      ]
    },
    {
      "cell_type": "code",
      "execution_count": 90,
      "metadata": {
        "id": "E13cuPWzazw-",
        "outputId": "5158c71e-d36b-4c59-99bd-89569007e9ea",
        "colab": {
          "base_uri": "https://localhost:8080/",
          "height": 282
        }
      },
      "outputs": [
        {
          "output_type": "execute_result",
          "data": {
            "text/plain": [
              "[<matplotlib.lines.Line2D at 0x7fcd289735d0>]"
            ]
          },
          "metadata": {},
          "execution_count": 90
        },
        {
          "output_type": "display_data",
          "data": {
            "image/png": "[encoded data removed]",
            "text/plain": [
              "<Figure size 432x288 with 1 Axes>"
            ]
          },
          "metadata": {
            "needs_background": "light"
          }
        }
      ],
      "source": [
        "import matplotlib.pyplot as plt\n",
        "plt.plot(df1)"
      ]
    },
    {
      "cell_type": "markdown",
      "source": [
        "### LSTM are sensitive to the scale of the data. so we apply MinMax scaler "
      ],
      "metadata": {
        "id": "ioh-A43NnGi2"
      }
    },
    {
      "cell_type": "code",
      "execution_count": 91,
      "metadata": {
        "id": "UySpfRWmazw_"
      },
      "outputs": [],
      "source": [
        "import numpy as np"
      ]
    },
    {
      "cell_type": "code",
      "execution_count": 92,
      "metadata": {
        "id": "m2a67_LnazxA",
        "outputId": "d5f35f7d-3390-4ce3-b8a4-f4054374bdd6",
        "colab": {
          "base_uri": "https://localhost:8080/"
        }
      },
      "outputs": [
        {
          "output_type": "execute_result",
          "data": {
            "text/plain": [
              "0       130.29\n",
              "1       131.53\n",
              "2       132.04\n",
              "3       132.42\n",
              "4       132.12\n",
              "         ...  \n",
              "1254    170.33\n",
              "1255    174.78\n",
              "1256    174.61\n",
              "1257    175.84\n",
              "1258    172.90\n",
              "Name: close, Length: 1259, dtype: float64"
            ]
          },
          "metadata": {},
          "execution_count": 92
        }
      ],
      "source": [
        "df1"
      ]
    },
    {
      "cell_type": "code",
      "execution_count": 93,
      "metadata": {
        "id": "d-6XHzhiazxA"
      },
      "outputs": [],
      "source": [
        "from sklearn.preprocessing import MinMaxScaler\n",
        "scaler=MinMaxScaler(feature_range=(0,1))\n",
        "df1=scaler.fit_transform(np.array(df1).reshape(-1,1))"
      ]
    },
    {
      "cell_type": "code",
      "source": [
        "import matplotlib.pyplot as plt\n",
        "plt.plot(df1)"
      ],
      "metadata": {
        "colab": {
          "base_uri": "https://localhost:8080/",
          "height": 0
        },
        "id": "2UnVxDdJnY20",
        "outputId": "d0df6aa1-1283-427a-bd11-6d927229ca63"
      },
      "execution_count": 94,
      "outputs": [
        {
          "output_type": "execute_result",
          "data": {
            "text/plain": [
              "[<matplotlib.lines.Line2D at 0x7fcd289fc990>]"
            ]
          },
          "metadata": {},
          "execution_count": 94
        },
        {
          "output_type": "display_data",
          "data": {
            "image/png": "[encoded data removed]",
            "text/plain": [
              "<Figure size 432x288 with 1 Axes>"
            ]
          },
          "metadata": {
            "needs_background": "light"
          }
        }
      ]
    },
    {
      "cell_type": "code",
      "execution_count": 95,
      "metadata": {
        "id": "HHIgeyUNazxB",
        "outputId": "cf294aa3-7b79-4165-ac2b-3b52a72462e2",
        "colab": {
          "base_uri": "https://localhost:8080/"
        }
      },
      "outputs": [
        {
          "output_type": "stream",
          "name": "stdout",
          "text": [
            "[[0.05873513]\n",
            " [0.06184095]\n",
            " [0.06311835]\n",
            " ...\n",
            " [0.16974327]\n",
            " [0.17282405]\n",
            " [0.16546024]]\n"
          ]
        }
      ],
      "source": [
        "print(df1)"
      ]
    },
    {
      "cell_type": "markdown",
      "source": [
        "### **train test split method to be followed in time series data**\n",
        "### **next data is dependent on previous data, splitting should be ordered**"
      ],
      "metadata": {
        "id": "ZLnnKoXrnuM7"
      }
    },
    {
      "cell_type": "code",
      "execution_count": 96,
      "metadata": {
        "id": "VsGdPyqUazxB"
      },
      "outputs": [],
      "source": [
        "##splitting dataset into train and test split\n",
        "training_size=int(len(df1)*0.65)\n",
        "test_size=len(df1)-training_size\n",
        "train_data,test_data=df1[0:training_size,:],df1[training_size:len(df1),:1]"
      ]
    },
    {
      "cell_type": "code",
      "execution_count": 97,
      "metadata": {
        "id": "Is6FZZzbazxC",
        "outputId": "89c7277b-14e4-4f16-84d0-29b4ca3f94d4",
        "colab": {
          "base_uri": "https://localhost:8080/"
        }
      },
      "outputs": [
        {
          "output_type": "execute_result",
          "data": {
            "text/plain": [
              "(818, 441)"
            ]
          },
          "metadata": {},
          "execution_count": 97
        }
      ],
      "source": [
        "training_size,test_size"
      ]
    },
    {
      "cell_type": "code",
      "execution_count": 98,
      "metadata": {
        "id": "bPWQmGdbazxC",
        "outputId": "8bc1aa1a-b4ff-4556-ac6a-e439fac77940",
        "colab": {
          "base_uri": "https://localhost:8080/"
        }
      },
      "outputs": [
        {
          "output_type": "execute_result",
          "data": {
            "text/plain": [
              "array([[0.05873513],\n",
              "       [0.06184095],\n",
              "       [0.06311835],\n",
              "       [0.06407013],\n",
              "       [0.06331872],\n",
              "       [0.06624922],\n",
              "       [0.07058234],\n",
              "       [0.07180964],\n",
              "       [0.07139637],\n",
              "       [0.07233563]])"
            ]
          },
          "metadata": {},
          "execution_count": 98
        }
      ],
      "source": [
        "train_data[:10]"
      ]
    },
    {
      "cell_type": "markdown",
      "source": [
        "## **Data Preprocessing**"
      ],
      "metadata": {
        "id": "R05x76j7p1WJ"
      }
    },
    {
      "cell_type": "code",
      "execution_count": 99,
      "metadata": {
        "id": "MXaNyIwZazxD"
      },
      "outputs": [],
      "source": [
        "import numpy\n",
        "# convert an array of values into a dataset matrix\n",
        "def create_dataset(dataset, time_step=1):\n",
        "\tdataX, dataY = [], []\n",
        "\tfor i in range(len(dataset)-time_step-1):\n",
        "\t\ta = dataset[i:(i+time_step), 0]   ###i=0, 0,1,2,3-----99   100 \n",
        "\t\tdataX.append(a)\n",
        "\t\tdataY.append(dataset[i + time_step, 0])\n",
        "\treturn numpy.array(dataX), numpy.array(dataY)"
      ]
    },
    {
      "cell_type": "code",
      "execution_count": 100,
      "metadata": {
        "id": "WwSQqUhNazxE"
      },
      "outputs": [],
      "source": [
        "# reshape into X=t,t+1,t+2,t+3 and Y=t+4\n",
        "time_step = 100\n",
        "X_train, y_train = create_dataset(train_data, time_step)\n",
        "X_test, ytest = create_dataset(test_data, time_step)"
      ]
    },
    {
      "cell_type": "code",
      "execution_count": 101,
      "metadata": {
        "id": "ikjBhMqQazxE",
        "outputId": "37b16fec-7bef-414f-9a3e-3c57bba5c274",
        "colab": {
          "base_uri": "https://localhost:8080/"
        }
      },
      "outputs": [
        {
          "output_type": "stream",
          "name": "stdout",
          "text": [
            "(717, 100)\n",
            "(717,)\n"
          ]
        }
      ],
      "source": [
        "print(X_train.shape)\n",
        "print(y_train.shape)"
      ]
    },
    {
      "cell_type": "code",
      "source": [
        "print(X_train[:1])\n",
        "print(y_train[:1])"
      ],
      "metadata": {
        "colab": {
          "base_uri": "https://localhost:8080/"
        },
        "id": "gTiImBDBrd_Z",
        "outputId": "f667a08f-7172-45c1-dc46-6ca525c734f2"
      },
      "execution_count": 102,
      "outputs": [
        {
          "output_type": "stream",
          "name": "stdout",
          "text": [
            "[[0.05873513 0.06184095 0.06311835 0.06407013 0.06331872 0.06624922\n",
            "  0.07058234 0.07180964 0.07139637 0.07233563 0.07479023 0.07581716\n",
            "  0.07436443 0.07469004 0.07536631 0.07551659 0.08252974 0.08045085\n",
            "  0.0825047  0.08140263 0.08185348 0.08055103 0.07974953 0.08090169\n",
            "  0.08105197 0.08052599 0.08420789 0.08478397 0.08303068 0.08671259\n",
            "  0.08265498 0.0866124  0.08536005 0.08465874 0.08525986 0.09257358\n",
            "  0.09337508 0.09289919 0.09222292 0.09232311 0.09500313 0.09312461\n",
            "  0.09222292 0.09142142 0.09099562 0.08713838 0.08756418 0.08568566\n",
            "  0.08763932 0.08606137 0.08475892 0.08916719 0.08874139 0.09217282\n",
            "  0.094402   0.09227301 0.09254853 0.09219787 0.09953663 0.101866\n",
            "  0.10073889 0.0994114  0.10549781 0.11564183 0.11809643 0.116268\n",
            "  0.11799624 0.12338134 0.12237946 0.12180338 0.10872887 0.11446462\n",
            "  0.11576706 0.11809643 0.11762054 0.11646838 0.11779587 0.11714465\n",
            "  0.11729493 0.11501565 0.11606763 0.12175329 0.11794615 0.11924859\n",
            "  0.12155291 0.12060113 0.1055479  0.09663118 0.09956168 0.09597996\n",
            "  0.09380088 0.08874139 0.0989355  0.09560426 0.0977583  0.09715717\n",
            "  0.09878522 0.09763306 0.09239825 0.09765811]]\n",
            "[0.09227301]\n"
          ]
        }
      ]
    },
    {
      "cell_type": "code",
      "execution_count": 103,
      "metadata": {
        "id": "WakaVpT1azxF",
        "outputId": "8ee76d4f-fcb9-4028-a08e-6635faab4d5f",
        "colab": {
          "base_uri": "https://localhost:8080/"
        }
      },
      "outputs": [
        {
          "output_type": "stream",
          "name": "stdout",
          "text": [
            "(340, 100)\n",
            "(340,)\n"
          ]
        }
      ],
      "source": [
        "print(X_test.shape)\n",
        "print(ytest.shape)"
      ]
    },
    {
      "cell_type": "markdown",
      "source": [
        "### reshape into 3d for giving to LSTM model"
      ],
      "metadata": {
        "id": "cf6l6Q-jsMUv"
      }
    },
    {
      "cell_type": "code",
      "execution_count": 104,
      "metadata": {
        "id": "ViB56h1zazxG"
      },
      "outputs": [],
      "source": [
        "# reshape input to be [samples, time steps, features] which is required for LSTM\n",
        "X_train =X_train.reshape(X_train.shape[0],X_train.shape[1] , 1)\n",
        "X_test = X_test.reshape(X_test.shape[0],X_test.shape[1] , 1)"
      ]
    },
    {
      "cell_type": "code",
      "execution_count": 105,
      "metadata": {
        "id": "nx6PjFIAazxG"
      },
      "outputs": [],
      "source": [
        "### Create the Stacked LSTM model\n",
        "from tensorflow.keras.models import Sequential\n",
        "from tensorflow.keras.layers import Dense\n",
        "from tensorflow.keras.layers import LSTM"
      ]
    },
    {
      "cell_type": "code",
      "execution_count": 106,
      "metadata": {
        "id": "ozn5torkazxH"
      },
      "outputs": [],
      "source": [
        "model=Sequential()\n",
        "model.add(LSTM(50,return_sequences=True,input_shape=(100,1)))\n",
        "model.add(LSTM(50,return_sequences=True))\n",
        "model.add(LSTM(50))\n",
        "model.add(Dense(1))\n",
        "model.compile(loss='mean_squared_error',optimizer='adam')\n"
      ]
    },
    {
      "cell_type": "code",
      "execution_count": 107,
      "metadata": {
        "id": "B5DZWx4VazxH",
        "outputId": "b06b5d31-d60f-4e96-b842-1b468ce2869c",
        "colab": {
          "base_uri": "https://localhost:8080/"
        }
      },
      "outputs": [
        {
          "output_type": "stream",
          "name": "stdout",
          "text": [
            "Model: \"sequential_1\"\n",
            "_________________________________________________________________\n",
            " Layer (type)                Output Shape              Param #   \n",
            "=================================================================\n",
            " lstm_3 (LSTM)               (None, 100, 50)           10400     \n",
            "                                                                 \n",
            " lstm_4 (LSTM)               (None, 100, 50)           20200     \n",
            "                                                                 \n",
            " lstm_5 (LSTM)               (None, 50)                20200     \n",
            "                                                                 \n",
            " dense_1 (Dense)             (None, 1)                 51        \n",
            "                                                                 \n",
            "=================================================================\n",
            "Total params: 50,851\n",
            "Trainable params: 50,851\n",
            "Non-trainable params: 0\n",
            "_________________________________________________________________\n"
          ]
        }
      ],
      "source": [
        "model.summary()"
      ]
    },
    {
      "cell_type": "code",
      "execution_count": 108,
      "metadata": {
        "id": "96gJMLFRazxJ",
        "outputId": "d46e8cc7-e2e7-419b-b4ea-2da34c9d8f20",
        "colab": {
          "base_uri": "https://localhost:8080/"
        }
      },
      "outputs": [
        {
          "output_type": "stream",
          "name": "stdout",
          "text": [
            "Epoch 1/100\n",
            "12/12 [==============================] - 10s 347ms/step - loss: 0.0206 - val_loss: 0.0026\n",
            "Epoch 2/100\n",
            "12/12 [==============================] - 3s 221ms/step - loss: 0.0048 - val_loss: 0.0075\n",
            "Epoch 3/100\n",
            "12/12 [==============================] - 3s 218ms/step - loss: 0.0024 - val_loss: 0.0015\n",
            "Epoch 4/100\n",
            "12/12 [==============================] - 3s 221ms/step - loss: 0.0014 - val_loss: 3.5637e-04\n",
            "Epoch 5/100\n",
            "12/12 [==============================] - 3s 217ms/step - loss: 0.0010 - val_loss: 3.3742e-04\n",
            "Epoch 6/100\n",
            "12/12 [==============================] - 3s 220ms/step - loss: 9.3260e-04 - val_loss: 2.7351e-04\n",
            "Epoch 7/100\n",
            "12/12 [==============================] - 3s 240ms/step - loss: 9.9399e-04 - val_loss: 2.8920e-04\n",
            "Epoch 8/100\n",
            "12/12 [==============================] - 4s 319ms/step - loss: 8.3355e-04 - val_loss: 3.3014e-04\n",
            "Epoch 9/100\n",
            "12/12 [==============================] - 3s 221ms/step - loss: 7.7921e-04 - val_loss: 2.3107e-04\n",
            "Epoch 10/100\n",
            "12/12 [==============================] - 3s 219ms/step - loss: 7.6599e-04 - val_loss: 2.7310e-04\n",
            "Epoch 11/100\n",
            "12/12 [==============================] - 3s 222ms/step - loss: 7.1874e-04 - val_loss: 3.7364e-04\n",
            "Epoch 12/100\n",
            "12/12 [==============================] - 3s 217ms/step - loss: 8.3776e-04 - val_loss: 3.5000e-04\n",
            "Epoch 13/100\n",
            "12/12 [==============================] - 3s 217ms/step - loss: 6.7700e-04 - val_loss: 3.1092e-04\n",
            "Epoch 14/100\n",
            "12/12 [==============================] - 3s 216ms/step - loss: 6.0063e-04 - val_loss: 3.3468e-04\n",
            "Epoch 15/100\n",
            "12/12 [==============================] - 3s 220ms/step - loss: 5.9345e-04 - val_loss: 3.6349e-04\n",
            "Epoch 16/100\n",
            "12/12 [==============================] - 3s 257ms/step - loss: 5.3906e-04 - val_loss: 4.3835e-04\n",
            "Epoch 17/100\n",
            "12/12 [==============================] - 3s 217ms/step - loss: 8.2477e-04 - val_loss: 3.8004e-04\n",
            "Epoch 18/100\n",
            "12/12 [==============================] - 3s 217ms/step - loss: 6.6619e-04 - val_loss: 3.1449e-04\n",
            "Epoch 19/100\n",
            "12/12 [==============================] - 3s 217ms/step - loss: 6.4936e-04 - val_loss: 3.3997e-04\n",
            "Epoch 20/100\n",
            "12/12 [==============================] - 3s 215ms/step - loss: 5.5742e-04 - val_loss: 3.3105e-04\n",
            "Epoch 21/100\n",
            "12/12 [==============================] - 3s 217ms/step - loss: 5.2321e-04 - val_loss: 3.3416e-04\n",
            "Epoch 22/100\n",
            "12/12 [==============================] - 3s 213ms/step - loss: 4.7878e-04 - val_loss: 2.9646e-04\n",
            "Epoch 23/100\n",
            "12/12 [==============================] - 3s 217ms/step - loss: 4.4405e-04 - val_loss: 3.1856e-04\n",
            "Epoch 24/100\n",
            "12/12 [==============================] - 3s 218ms/step - loss: 4.4491e-04 - val_loss: 3.0209e-04\n",
            "Epoch 25/100\n",
            "12/12 [==============================] - 3s 216ms/step - loss: 4.4010e-04 - val_loss: 3.0531e-04\n",
            "Epoch 26/100\n",
            "12/12 [==============================] - 4s 325ms/step - loss: 4.3296e-04 - val_loss: 2.6580e-04\n",
            "Epoch 27/100\n",
            "12/12 [==============================] - 4s 378ms/step - loss: 4.6864e-04 - val_loss: 2.2924e-04\n",
            "Epoch 28/100\n",
            "12/12 [==============================] - 4s 358ms/step - loss: 4.2785e-04 - val_loss: 2.2808e-04\n",
            "Epoch 29/100\n",
            "12/12 [==============================] - 3s 220ms/step - loss: 4.8568e-04 - val_loss: 2.1551e-04\n",
            "Epoch 30/100\n",
            "12/12 [==============================] - 3s 216ms/step - loss: 4.0557e-04 - val_loss: 2.0086e-04\n",
            "Epoch 31/100\n",
            "12/12 [==============================] - 3s 214ms/step - loss: 4.0408e-04 - val_loss: 2.2757e-04\n",
            "Epoch 32/100\n",
            "12/12 [==============================] - 3s 215ms/step - loss: 4.4830e-04 - val_loss: 1.9067e-04\n",
            "Epoch 33/100\n",
            "12/12 [==============================] - 3s 214ms/step - loss: 4.1695e-04 - val_loss: 2.4189e-04\n",
            "Epoch 34/100\n",
            "12/12 [==============================] - 3s 216ms/step - loss: 4.6008e-04 - val_loss: 1.8842e-04\n",
            "Epoch 35/100\n",
            "12/12 [==============================] - 3s 218ms/step - loss: 3.8795e-04 - val_loss: 1.7871e-04\n",
            "Epoch 36/100\n",
            "12/12 [==============================] - 3s 218ms/step - loss: 3.9703e-04 - val_loss: 3.1669e-04\n",
            "Epoch 37/100\n",
            "12/12 [==============================] - 3s 219ms/step - loss: 4.7227e-04 - val_loss: 1.8753e-04\n",
            "Epoch 38/100\n",
            "12/12 [==============================] - 3s 219ms/step - loss: 3.8418e-04 - val_loss: 1.9110e-04\n",
            "Epoch 39/100\n",
            "12/12 [==============================] - 3s 220ms/step - loss: 4.1484e-04 - val_loss: 2.3661e-04\n",
            "Epoch 40/100\n",
            "12/12 [==============================] - 3s 217ms/step - loss: 4.7177e-04 - val_loss: 1.8169e-04\n",
            "Epoch 41/100\n",
            "12/12 [==============================] - 3s 220ms/step - loss: 4.2668e-04 - val_loss: 1.8952e-04\n",
            "Epoch 42/100\n",
            "12/12 [==============================] - 3s 218ms/step - loss: 4.1026e-04 - val_loss: 2.3039e-04\n",
            "Epoch 43/100\n",
            "12/12 [==============================] - 3s 219ms/step - loss: 4.3220e-04 - val_loss: 1.8055e-04\n",
            "Epoch 44/100\n",
            "12/12 [==============================] - 3s 218ms/step - loss: 4.4802e-04 - val_loss: 2.8976e-04\n",
            "Epoch 45/100\n",
            "12/12 [==============================] - 3s 221ms/step - loss: 4.7201e-04 - val_loss: 1.8430e-04\n",
            "Epoch 46/100\n",
            "12/12 [==============================] - 3s 217ms/step - loss: 4.3177e-04 - val_loss: 1.9339e-04\n",
            "Epoch 47/100\n",
            "12/12 [==============================] - 3s 218ms/step - loss: 3.6683e-04 - val_loss: 1.9239e-04\n",
            "Epoch 48/100\n",
            "12/12 [==============================] - 3s 218ms/step - loss: 3.7210e-04 - val_loss: 1.6827e-04\n",
            "Epoch 49/100\n",
            "12/12 [==============================] - 3s 214ms/step - loss: 4.1721e-04 - val_loss: 3.0443e-04\n",
            "Epoch 50/100\n",
            "12/12 [==============================] - 3s 215ms/step - loss: 4.3157e-04 - val_loss: 1.6995e-04\n",
            "Epoch 51/100\n",
            "12/12 [==============================] - 3s 216ms/step - loss: 3.7843e-04 - val_loss: 2.3492e-04\n",
            "Epoch 52/100\n",
            "12/12 [==============================] - 3s 220ms/step - loss: 3.8702e-04 - val_loss: 1.6741e-04\n",
            "Epoch 53/100\n",
            "12/12 [==============================] - 3s 216ms/step - loss: 4.3321e-04 - val_loss: 1.7588e-04\n",
            "Epoch 54/100\n",
            "12/12 [==============================] - 3s 218ms/step - loss: 3.5519e-04 - val_loss: 1.7450e-04\n",
            "Epoch 55/100\n",
            "12/12 [==============================] - 3s 274ms/step - loss: 3.5225e-04 - val_loss: 2.0783e-04\n",
            "Epoch 56/100\n",
            "12/12 [==============================] - 3s 217ms/step - loss: 3.6997e-04 - val_loss: 1.7123e-04\n",
            "Epoch 57/100\n",
            "12/12 [==============================] - 3s 220ms/step - loss: 3.7007e-04 - val_loss: 1.9248e-04\n",
            "Epoch 58/100\n",
            "12/12 [==============================] - 3s 275ms/step - loss: 3.5239e-04 - val_loss: 1.7006e-04\n",
            "Epoch 59/100\n",
            "12/12 [==============================] - 3s 220ms/step - loss: 3.6231e-04 - val_loss: 2.4803e-04\n",
            "Epoch 60/100\n",
            "12/12 [==============================] - 3s 218ms/step - loss: 3.8147e-04 - val_loss: 2.2197e-04\n",
            "Epoch 61/100\n",
            "12/12 [==============================] - 3s 217ms/step - loss: 3.4825e-04 - val_loss: 1.9543e-04\n",
            "Epoch 62/100\n",
            "12/12 [==============================] - 3s 217ms/step - loss: 3.3945e-04 - val_loss: 1.7036e-04\n",
            "Epoch 63/100\n",
            "12/12 [==============================] - 3s 218ms/step - loss: 3.7421e-04 - val_loss: 1.7177e-04\n",
            "Epoch 64/100\n",
            "12/12 [==============================] - 3s 215ms/step - loss: 3.3726e-04 - val_loss: 1.5944e-04\n",
            "Epoch 65/100\n",
            "12/12 [==============================] - 3s 215ms/step - loss: 3.6000e-04 - val_loss: 2.3687e-04\n",
            "Epoch 66/100\n",
            "12/12 [==============================] - 3s 218ms/step - loss: 3.5087e-04 - val_loss: 1.6417e-04\n",
            "Epoch 67/100\n",
            "12/12 [==============================] - 3s 224ms/step - loss: 3.3291e-04 - val_loss: 1.6536e-04\n",
            "Epoch 68/100\n",
            "12/12 [==============================] - 3s 221ms/step - loss: 3.3617e-04 - val_loss: 1.9557e-04\n",
            "Epoch 69/100\n",
            "12/12 [==============================] - 3s 216ms/step - loss: 3.4733e-04 - val_loss: 1.6565e-04\n",
            "Epoch 70/100\n",
            "12/12 [==============================] - 3s 217ms/step - loss: 3.5833e-04 - val_loss: 1.6940e-04\n",
            "Epoch 71/100\n",
            "12/12 [==============================] - 3s 220ms/step - loss: 3.2840e-04 - val_loss: 1.6329e-04\n",
            "Epoch 72/100\n",
            "12/12 [==============================] - 3s 222ms/step - loss: 3.2863e-04 - val_loss: 1.9116e-04\n",
            "Epoch 73/100\n",
            "12/12 [==============================] - 3s 213ms/step - loss: 3.4677e-04 - val_loss: 1.5513e-04\n",
            "Epoch 74/100\n",
            "12/12 [==============================] - 3s 214ms/step - loss: 3.2526e-04 - val_loss: 1.7068e-04\n",
            "Epoch 75/100\n",
            "12/12 [==============================] - 3s 215ms/step - loss: 3.2138e-04 - val_loss: 1.6478e-04\n",
            "Epoch 76/100\n",
            "12/12 [==============================] - 3s 219ms/step - loss: 3.2562e-04 - val_loss: 1.8605e-04\n",
            "Epoch 77/100\n",
            "12/12 [==============================] - 3s 222ms/step - loss: 3.0994e-04 - val_loss: 1.7505e-04\n",
            "Epoch 78/100\n",
            "12/12 [==============================] - 3s 220ms/step - loss: 3.6404e-04 - val_loss: 2.3786e-04\n",
            "Epoch 79/100\n",
            "12/12 [==============================] - 3s 219ms/step - loss: 4.3978e-04 - val_loss: 1.7692e-04\n",
            "Epoch 80/100\n",
            "12/12 [==============================] - 3s 221ms/step - loss: 3.2850e-04 - val_loss: 1.6888e-04\n",
            "Epoch 81/100\n",
            "12/12 [==============================] - 3s 215ms/step - loss: 3.1081e-04 - val_loss: 1.9926e-04\n",
            "Epoch 82/100\n",
            "12/12 [==============================] - 3s 220ms/step - loss: 3.1419e-04 - val_loss: 1.7251e-04\n",
            "Epoch 83/100\n",
            "12/12 [==============================] - 3s 222ms/step - loss: 3.2495e-04 - val_loss: 1.5131e-04\n",
            "Epoch 84/100\n",
            "12/12 [==============================] - 3s 214ms/step - loss: 3.0145e-04 - val_loss: 2.0265e-04\n",
            "Epoch 85/100\n",
            "12/12 [==============================] - 3s 218ms/step - loss: 3.9625e-04 - val_loss: 1.6834e-04\n",
            "Epoch 86/100\n",
            "12/12 [==============================] - 3s 215ms/step - loss: 3.3195e-04 - val_loss: 1.9255e-04\n",
            "Epoch 87/100\n",
            "12/12 [==============================] - 3s 219ms/step - loss: 3.3165e-04 - val_loss: 1.5651e-04\n",
            "Epoch 88/100\n",
            "12/12 [==============================] - 3s 216ms/step - loss: 3.4763e-04 - val_loss: 2.1990e-04\n",
            "Epoch 89/100\n",
            "12/12 [==============================] - 3s 218ms/step - loss: 3.2306e-04 - val_loss: 1.6320e-04\n",
            "Epoch 90/100\n",
            "12/12 [==============================] - 3s 219ms/step - loss: 3.4074e-04 - val_loss: 1.5834e-04\n",
            "Epoch 91/100\n",
            "12/12 [==============================] - 3s 222ms/step - loss: 3.0589e-04 - val_loss: 1.6160e-04\n",
            "Epoch 92/100\n",
            "12/12 [==============================] - 3s 219ms/step - loss: 3.3044e-04 - val_loss: 1.4900e-04\n",
            "Epoch 93/100\n",
            "12/12 [==============================] - 3s 218ms/step - loss: 2.9593e-04 - val_loss: 1.5636e-04\n",
            "Epoch 94/100\n",
            "12/12 [==============================] - 3s 218ms/step - loss: 2.9709e-04 - val_loss: 1.5865e-04\n",
            "Epoch 95/100\n",
            "12/12 [==============================] - 3s 221ms/step - loss: 2.8588e-04 - val_loss: 1.6573e-04\n",
            "Epoch 96/100\n",
            "12/12 [==============================] - 3s 219ms/step - loss: 2.9014e-04 - val_loss: 1.8445e-04\n",
            "Epoch 97/100\n",
            "12/12 [==============================] - 3s 217ms/step - loss: 3.0507e-04 - val_loss: 1.5748e-04\n",
            "Epoch 98/100\n",
            "12/12 [==============================] - 3s 219ms/step - loss: 2.8486e-04 - val_loss: 2.3156e-04\n",
            "Epoch 99/100\n",
            "12/12 [==============================] - 3s 216ms/step - loss: 3.0601e-04 - val_loss: 1.6773e-04\n",
            "Epoch 100/100\n",
            "12/12 [==============================] - 3s 219ms/step - loss: 2.7285e-04 - val_loss: 1.6728e-04\n"
          ]
        },
        {
          "output_type": "execute_result",
          "data": {
            "text/plain": [
              "<keras.callbacks.History at 0x7fcd28760610>"
            ]
          },
          "metadata": {},
          "execution_count": 108
        }
      ],
      "source": [
        "model.fit(X_train,y_train,validation_data=(X_test,ytest),epochs=100,batch_size=64,verbose=1)"
      ]
    },
    {
      "cell_type": "code",
      "execution_count": 109,
      "metadata": {
        "id": "VxfPGBOcazxJ"
      },
      "outputs": [],
      "source": [
        "import tensorflow as tf"
      ]
    },
    {
      "cell_type": "code",
      "execution_count": 110,
      "metadata": {
        "id": "9q3As3VrazxK",
        "outputId": "f38ee823-60b1-483d-ecb7-dc14491a898f",
        "colab": {
          "base_uri": "https://localhost:8080/",
          "height": 35
        }
      },
      "outputs": [
        {
          "output_type": "execute_result",
          "data": {
            "application/vnd.google.colaboratory.intrinsic+json": {
              "type": "string"
            },
            "text/plain": [
              "'2.7.0'"
            ]
          },
          "metadata": {},
          "execution_count": 110
        }
      ],
      "source": [
        "tf.__version__"
      ]
    },
    {
      "cell_type": "code",
      "execution_count": 111,
      "metadata": {
        "id": "wQMbxLTgazxK"
      },
      "outputs": [],
      "source": [
        "### Lets Do the prediction and check performance metrics\n",
        "train_predict=model.predict(X_train)\n",
        "test_predict=model.predict(X_test)"
      ]
    },
    {
      "cell_type": "code",
      "execution_count": 112,
      "metadata": {
        "id": "jHCgt5lgazxL"
      },
      "outputs": [],
      "source": [
        "##Transform back to original form\n",
        "train_predict=scaler.inverse_transform(train_predict)\n",
        "test_predict=scaler.inverse_transform(test_predict)"
      ]
    },
    {
      "cell_type": "code",
      "source": [
        "train_predict[:5]"
      ],
      "metadata": {
        "colab": {
          "base_uri": "https://localhost:8080/"
        },
        "id": "T4LihLNqu7WZ",
        "outputId": "8d061014-3802-4e4e-8df9-889f456f1fef"
      },
      "execution_count": 113,
      "outputs": [
        {
          "output_type": "execute_result",
          "data": {
            "text/plain": [
              "array([[146.13528],\n",
              "       [146.17676],\n",
              "       [146.14288],\n",
              "       [146.02843],\n",
              "       [145.89088]], dtype=float32)"
            ]
          },
          "metadata": {},
          "execution_count": 113
        }
      ]
    },
    {
      "cell_type": "code",
      "execution_count": 114,
      "metadata": {
        "id": "QgsjjVR7azxL",
        "outputId": "0d200673-a3b3-4ea2-be1a-f5c367fb37bf",
        "colab": {
          "base_uri": "https://localhost:8080/"
        }
      },
      "outputs": [
        {
          "output_type": "execute_result",
          "data": {
            "text/plain": [
              "205.21226332614432"
            ]
          },
          "metadata": {},
          "execution_count": 114
        }
      ],
      "source": [
        "### Calculate RMSE performance metrics\n",
        "import math\n",
        "from sklearn.metrics import mean_squared_error\n",
        "math.sqrt(mean_squared_error(y_train,train_predict))"
      ]
    },
    {
      "cell_type": "code",
      "execution_count": 115,
      "metadata": {
        "id": "jFvoalEXazxM",
        "outputId": "e3fcbfb6-cdc6-4c61-f6be-d6afa32059e3",
        "colab": {
          "base_uri": "https://localhost:8080/"
        }
      },
      "outputs": [
        {
          "output_type": "execute_result",
          "data": {
            "text/plain": [
              "141.23791647783483"
            ]
          },
          "metadata": {},
          "execution_count": 115
        }
      ],
      "source": [
        "### Test Data RMSE\n",
        "math.sqrt(mean_squared_error(ytest,test_predict))"
      ]
    },
    {
      "cell_type": "code",
      "execution_count": 116,
      "metadata": {
        "id": "ra8Qz1n6azxN",
        "outputId": "c82f1e1b-56e4-468d-fc77-a5f1f2cc979f",
        "colab": {
          "base_uri": "https://localhost:8080/",
          "height": 265
        }
      },
      "outputs": [
        {
          "output_type": "display_data",
          "data": {
            "image/png": "[encoded data removed]",
            "text/plain": [
              "<Figure size 432x288 with 1 Axes>"
            ]
          },
          "metadata": {
            "needs_background": "light"
          }
        }
      ],
      "source": [
        "### Plotting \n",
        "# shift train predictions for plotting\n",
        "look_back=100\n",
        "trainPredictPlot = numpy.empty_like(df1)\n",
        "trainPredictPlot[:, :] = np.nan\n",
        "trainPredictPlot[look_back:len(train_predict)+look_back, :] = train_predict\n",
        "# shift test predictions for plotting\n",
        "testPredictPlot = numpy.empty_like(df1)\n",
        "testPredictPlot[:, :] = numpy.nan\n",
        "testPredictPlot[len(train_predict)+(look_back*2)+1:len(df1)-1, :] = test_predict\n",
        "# plot baseline and predictions\n",
        "plt.plot(scaler.inverse_transform(df1))\n",
        "plt.plot(trainPredictPlot)\n",
        "plt.plot(testPredictPlot)\n",
        "plt.show()"
      ]
    },
    {
      "cell_type": "code",
      "execution_count": 117,
      "metadata": {
        "id": "t3Nd-jMmazxO",
        "outputId": "34cae83a-0abf-48d1-a0c0-9217e3330453",
        "colab": {
          "base_uri": "https://localhost:8080/"
        }
      },
      "outputs": [
        {
          "output_type": "execute_result",
          "data": {
            "text/plain": [
              "441"
            ]
          },
          "metadata": {},
          "execution_count": 117
        }
      ],
      "source": [
        "len(test_data)"
      ]
    },
    {
      "cell_type": "code",
      "execution_count": 118,
      "metadata": {
        "id": "sUoIWC2nazxP",
        "outputId": "f7171307-4d57-444c-bd1f-5e2cd31fe3dd",
        "colab": {
          "base_uri": "https://localhost:8080/"
        }
      },
      "outputs": [
        {
          "output_type": "execute_result",
          "data": {
            "text/plain": [
              "(1, 100)"
            ]
          },
          "metadata": {},
          "execution_count": 118
        }
      ],
      "source": [
        "x_input=test_data[341:].reshape(1,-1)\n",
        "x_input.shape"
      ]
    },
    {
      "cell_type": "code",
      "source": [
        "x_input[:1]"
      ],
      "metadata": {
        "colab": {
          "base_uri": "https://localhost:8080/"
        },
        "id": "bhPHSw-ayxs2",
        "outputId": "803af13e-69a5-4b02-b5a5-9242f38c118f"
      },
      "execution_count": 119,
      "outputs": [
        {
          "output_type": "execute_result",
          "data": {
            "text/plain": [
              "array([[0.10339386, 0.10567314, 0.10507201, 0.09823419, 0.09041954,\n",
              "        0.09164684, 0.0977082 , 0.10016281, 0.10038823, 0.09650595,\n",
              "        0.0878397 , 0.09014402, 0.08681277, 0.08969317, 0.08090169,\n",
              "        0.08583594, 0.08806512, 0.09129618, 0.09031935, 0.09009393,\n",
              "        0.08683782, 0.085335  , 0.09247339, 0.09517846, 0.09946149,\n",
              "        0.10499687, 0.10624922, 0.10680025, 0.10482154, 0.10469631,\n",
              "        0.1063995 , 0.10522229, 0.11453976, 0.10760175, 0.10549781,\n",
              "        0.10815279, 0.11183469, 0.1105072 , 0.1113087 , 0.10920476,\n",
              "        0.1101315 , 0.10289292, 0.10276769, 0.10807765, 0.10810269,\n",
              "        0.11060739, 0.11684408, 0.12781465, 0.13452724, 0.13570445,\n",
              "        0.13668128, 0.13800877, 0.12515967, 0.13375078, 0.14642455,\n",
              "        0.14509706, 0.14256731, 0.1377583 , 0.14647464, 0.16115216,\n",
              "        0.17092048, 0.16961803, 0.181866  , 0.17257358, 0.16904195,\n",
              "        0.18149029, 0.16385723, 0.16105197, 0.15757044, 0.16568566,\n",
              "        0.17232311, 0.17392611, 0.18407013, 0.18146525, 0.18169067,\n",
              "        0.17873513, 0.17715717, 0.18827802, 0.18249217, 0.17051972,\n",
              "        0.16320601, 0.16363181, 0.1636819 , 0.17092048, 0.17204759,\n",
              "        0.1636819 , 0.16588604, 0.15769568, 0.14875391, 0.14444584,\n",
              "        0.13918597, 0.13720726, 0.13259862, 0.1323732 , 0.13119599,\n",
              "        0.15902317, 0.17016907, 0.16974327, 0.17282405, 0.16546024]])"
            ]
          },
          "metadata": {},
          "execution_count": 119
        }
      ]
    },
    {
      "cell_type": "code",
      "execution_count": 120,
      "metadata": {
        "id": "GHk_OHWHazxQ"
      },
      "outputs": [],
      "source": [
        "temp_input=list(x_input)\n",
        "temp_input=temp_input[0].tolist()"
      ]
    },
    {
      "cell_type": "code",
      "source": [
        "temp_input"
      ],
      "metadata": {
        "colab": {
          "base_uri": "https://localhost:8080/"
        },
        "id": "mLiX_hgqzH7r",
        "outputId": "865093dd-b07b-44e9-9b35-1fdec2cef2e3"
      },
      "execution_count": 121,
      "outputs": [
        {
          "output_type": "execute_result",
          "data": {
            "text/plain": [
              "[0.10339386349405133,\n",
              " 0.10567313713212267,\n",
              " 0.10507201001878513,\n",
              " 0.09823418910457105,\n",
              " 0.0904195366311834,\n",
              " 0.0916468378209142,\n",
              " 0.09770820288040072,\n",
              " 0.10016280525986221,\n",
              " 0.10038822792736374,\n",
              " 0.09650594865372569,\n",
              " 0.08783969943644326,\n",
              " 0.09014402003757044,\n",
              " 0.08681277395115838,\n",
              " 0.08969317470256727,\n",
              " 0.08090169067000619,\n",
              " 0.08583594239198494,\n",
              " 0.08806512210394485,\n",
              " 0.09129618033813391,\n",
              " 0.09031934877896053,\n",
              " 0.09009392611145894,\n",
              " 0.0868378209142141,\n",
              " 0.08533500313087033,\n",
              " 0.09247338760175322,\n",
              " 0.09517845961177201,\n",
              " 0.09946149029430179,\n",
              " 0.10499686912961798,\n",
              " 0.10624921728240444,\n",
              " 0.10680025046963049,\n",
              " 0.10482154038822789,\n",
              " 0.10469630557294918,\n",
              " 0.10639949906073881,\n",
              " 0.10522229179711956,\n",
              " 0.11453976205385091,\n",
              " 0.10760175328741389,\n",
              " 0.10549780839073258,\n",
              " 0.10815278647463994,\n",
              " 0.11183469004383217,\n",
              " 0.1105072010018785,\n",
              " 0.11130870381966185,\n",
              " 0.10920475892298054,\n",
              " 0.11013149655604254,\n",
              " 0.10289292423293667,\n",
              " 0.10276768941765807,\n",
              " 0.10807764558547273,\n",
              " 0.10810269254852845,\n",
              " 0.11060738885410137,\n",
              " 0.11684408265497809,\n",
              " 0.12781465247338758,\n",
              " 0.13452723857232307,\n",
              " 0.13570444583594238,\n",
              " 0.13668127739511576,\n",
              " 0.13800876643706944,\n",
              " 0.12515967438948022,\n",
              " 0.1337507827175955,\n",
              " 0.14642454602379462,\n",
              " 0.14509705698184094,\n",
              " 0.14256731371321218,\n",
              " 0.1377582968065122,\n",
              " 0.146474639949906,\n",
              " 0.1611521603005635,\n",
              " 0.17092047589229803,\n",
              " 0.16961803381340007,\n",
              " 0.18186599874765175,\n",
              " 0.17257357545397617,\n",
              " 0.16904195366311836,\n",
              " 0.1814902943018159,\n",
              " 0.1638572323105823,\n",
              " 0.16105197244834057,\n",
              " 0.1575704445835942,\n",
              " 0.1656856606136506,\n",
              " 0.1723231058234188,\n",
              " 0.17392611145898557,\n",
              " 0.18407013149655604,\n",
              " 0.18146524733876013,\n",
              " 0.1816906700062617,\n",
              " 0.1787351283656856,\n",
              " 0.17715716969317463,\n",
              " 0.18827802128991855,\n",
              " 0.182492172824045,\n",
              " 0.1705197244834063,\n",
              " 0.16320601127113332,\n",
              " 0.16363180964308072,\n",
              " 0.1636819035691922,\n",
              " 0.17092047589229803,\n",
              " 0.17204758922980584,\n",
              " 0.1636819035691922,\n",
              " 0.1658860363180964,\n",
              " 0.15769567939887286,\n",
              " 0.1487539135879774,\n",
              " 0.1444458359423919,\n",
              " 0.13918597370068875,\n",
              " 0.13720726361928615,\n",
              " 0.1325986224170319,\n",
              " 0.13237319974953032,\n",
              " 0.13119599248591102,\n",
              " 0.15902316844082653,\n",
              " 0.17016906700062612,\n",
              " 0.16974326862867878,\n",
              " 0.17282404508453347,\n",
              " 0.165460237946149]"
            ]
          },
          "metadata": {},
          "execution_count": 121
        }
      ]
    },
    {
      "cell_type": "code",
      "execution_count": 122,
      "metadata": {
        "id": "g7cr2D7zazxQ",
        "outputId": "529cb54d-ccec-463c-cee4-d5c509de4165",
        "colab": {
          "base_uri": "https://localhost:8080/"
        }
      },
      "outputs": [
        {
          "output_type": "execute_result",
          "data": {
            "text/plain": [
              "[0.10339386349405133,\n",
              " 0.10567313713212267,\n",
              " 0.10507201001878513,\n",
              " 0.09823418910457105,\n",
              " 0.0904195366311834,\n",
              " 0.0916468378209142,\n",
              " 0.09770820288040072,\n",
              " 0.10016280525986221,\n",
              " 0.10038822792736374,\n",
              " 0.09650594865372569]"
            ]
          },
          "metadata": {},
          "execution_count": 122
        }
      ],
      "source": [
        "temp_input[:10]"
      ]
    },
    {
      "cell_type": "code",
      "execution_count": 123,
      "metadata": {
        "id": "BuVKI3S1azxQ",
        "outputId": "7f84162c-879d-43fd-9e07-2611eb982b0b",
        "colab": {
          "base_uri": "https://localhost:8080/"
        }
      },
      "outputs": [
        {
          "output_type": "stream",
          "name": "stdout",
          "text": [
            "[0.15405726]\n",
            "101\n",
            "1 day input [0.10567314 0.10507201 0.09823419 0.09041954 0.09164684 0.0977082\n",
            " 0.10016281 0.10038823 0.09650595 0.0878397  0.09014402 0.08681277\n",
            " 0.08969317 0.08090169 0.08583594 0.08806512 0.09129618 0.09031935\n",
            " 0.09009393 0.08683782 0.085335   0.09247339 0.09517846 0.09946149\n",
            " 0.10499687 0.10624922 0.10680025 0.10482154 0.10469631 0.1063995\n",
            " 0.10522229 0.11453976 0.10760175 0.10549781 0.10815279 0.11183469\n",
            " 0.1105072  0.1113087  0.10920476 0.1101315  0.10289292 0.10276769\n",
            " 0.10807765 0.10810269 0.11060739 0.11684408 0.12781465 0.13452724\n",
            " 0.13570445 0.13668128 0.13800877 0.12515967 0.13375078 0.14642455\n",
            " 0.14509706 0.14256731 0.1377583  0.14647464 0.16115216 0.17092048\n",
            " 0.16961803 0.181866   0.17257358 0.16904195 0.18149029 0.16385723\n",
            " 0.16105197 0.15757044 0.16568566 0.17232311 0.17392611 0.18407013\n",
            " 0.18146525 0.18169067 0.17873513 0.17715717 0.18827802 0.18249217\n",
            " 0.17051972 0.16320601 0.16363181 0.1636819  0.17092048 0.17204759\n",
            " 0.1636819  0.16588604 0.15769568 0.14875391 0.14444584 0.13918597\n",
            " 0.13720726 0.13259862 0.1323732  0.13119599 0.15902317 0.17016907\n",
            " 0.16974327 0.17282405 0.16546024 0.15405726]\n",
            "1 day output [[0.15833184]]\n",
            "2 day input [0.10507201 0.09823419 0.09041954 0.09164684 0.0977082  0.10016281\n",
            " 0.10038823 0.09650595 0.0878397  0.09014402 0.08681277 0.08969317\n",
            " 0.08090169 0.08583594 0.08806512 0.09129618 0.09031935 0.09009393\n",
            " 0.08683782 0.085335   0.09247339 0.09517846 0.09946149 0.10499687\n",
            " 0.10624922 0.10680025 0.10482154 0.10469631 0.1063995  0.10522229\n",
            " 0.11453976 0.10760175 0.10549781 0.10815279 0.11183469 0.1105072\n",
            " 0.1113087  0.10920476 0.1101315  0.10289292 0.10276769 0.10807765\n",
            " 0.10810269 0.11060739 0.11684408 0.12781465 0.13452724 0.13570445\n",
            " 0.13668128 0.13800877 0.12515967 0.13375078 0.14642455 0.14509706\n",
            " 0.14256731 0.1377583  0.14647464 0.16115216 0.17092048 0.16961803\n",
            " 0.181866   0.17257358 0.16904195 0.18149029 0.16385723 0.16105197\n",
            " 0.15757044 0.16568566 0.17232311 0.17392611 0.18407013 0.18146525\n",
            " 0.18169067 0.17873513 0.17715717 0.18827802 0.18249217 0.17051972\n",
            " 0.16320601 0.16363181 0.1636819  0.17092048 0.17204759 0.1636819\n",
            " 0.16588604 0.15769568 0.14875391 0.14444584 0.13918597 0.13720726\n",
            " 0.13259862 0.1323732  0.13119599 0.15902317 0.17016907 0.16974327\n",
            " 0.17282405 0.16546024 0.15405726 0.15833184]\n",
            "2 day output [[0.16118535]]\n",
            "3 day input [0.09823419 0.09041954 0.09164684 0.0977082  0.10016281 0.10038823\n",
            " 0.09650595 0.0878397  0.09014402 0.08681277 0.08969317 0.08090169\n",
            " 0.08583594 0.08806512 0.09129618 0.09031935 0.09009393 0.08683782\n",
            " 0.085335   0.09247339 0.09517846 0.09946149 0.10499687 0.10624922\n",
            " 0.10680025 0.10482154 0.10469631 0.1063995  0.10522229 0.11453976\n",
            " 0.10760175 0.10549781 0.10815279 0.11183469 0.1105072  0.1113087\n",
            " 0.10920476 0.1101315  0.10289292 0.10276769 0.10807765 0.10810269\n",
            " 0.11060739 0.11684408 0.12781465 0.13452724 0.13570445 0.13668128\n",
            " 0.13800877 0.12515967 0.13375078 0.14642455 0.14509706 0.14256731\n",
            " 0.1377583  0.14647464 0.16115216 0.17092048 0.16961803 0.181866\n",
            " 0.17257358 0.16904195 0.18149029 0.16385723 0.16105197 0.15757044\n",
            " 0.16568566 0.17232311 0.17392611 0.18407013 0.18146525 0.18169067\n",
            " 0.17873513 0.17715717 0.18827802 0.18249217 0.17051972 0.16320601\n",
            " 0.16363181 0.1636819  0.17092048 0.17204759 0.1636819  0.16588604\n",
            " 0.15769568 0.14875391 0.14444584 0.13918597 0.13720726 0.13259862\n",
            " 0.1323732  0.13119599 0.15902317 0.17016907 0.16974327 0.17282405\n",
            " 0.16546024 0.15405726 0.15833184 0.16118535]\n",
            "3 day output [[0.16294123]]\n",
            "4 day input [0.09041954 0.09164684 0.0977082  0.10016281 0.10038823 0.09650595\n",
            " 0.0878397  0.09014402 0.08681277 0.08969317 0.08090169 0.08583594\n",
            " 0.08806512 0.09129618 0.09031935 0.09009393 0.08683782 0.085335\n",
            " 0.09247339 0.09517846 0.09946149 0.10499687 0.10624922 0.10680025\n",
            " 0.10482154 0.10469631 0.1063995  0.10522229 0.11453976 0.10760175\n",
            " 0.10549781 0.10815279 0.11183469 0.1105072  0.1113087  0.10920476\n",
            " 0.1101315  0.10289292 0.10276769 0.10807765 0.10810269 0.11060739\n",
            " 0.11684408 0.12781465 0.13452724 0.13570445 0.13668128 0.13800877\n",
            " 0.12515967 0.13375078 0.14642455 0.14509706 0.14256731 0.1377583\n",
            " 0.14647464 0.16115216 0.17092048 0.16961803 0.181866   0.17257358\n",
            " 0.16904195 0.18149029 0.16385723 0.16105197 0.15757044 0.16568566\n",
            " 0.17232311 0.17392611 0.18407013 0.18146525 0.18169067 0.17873513\n",
            " 0.17715717 0.18827802 0.18249217 0.17051972 0.16320601 0.16363181\n",
            " 0.1636819  0.17092048 0.17204759 0.1636819  0.16588604 0.15769568\n",
            " 0.14875391 0.14444584 0.13918597 0.13720726 0.13259862 0.1323732\n",
            " 0.13119599 0.15902317 0.17016907 0.16974327 0.17282405 0.16546024\n",
            " 0.15405726 0.15833184 0.16118535 0.16294123]\n",
            "4 day output [[0.1639779]]\n",
            "5 day input [0.09164684 0.0977082  0.10016281 0.10038823 0.09650595 0.0878397\n",
            " 0.09014402 0.08681277 0.08969317 0.08090169 0.08583594 0.08806512\n",
            " 0.09129618 0.09031935 0.09009393 0.08683782 0.085335   0.09247339\n",
            " 0.09517846 0.09946149 0.10499687 0.10624922 0.10680025 0.10482154\n",
            " 0.10469631 0.1063995  0.10522229 0.11453976 0.10760175 0.10549781\n",
            " 0.10815279 0.11183469 0.1105072  0.1113087  0.10920476 0.1101315\n",
            " 0.10289292 0.10276769 0.10807765 0.10810269 0.11060739 0.11684408\n",
            " 0.12781465 0.13452724 0.13570445 0.13668128 0.13800877 0.12515967\n",
            " 0.13375078 0.14642455 0.14509706 0.14256731 0.1377583  0.14647464\n",
            " 0.16115216 0.17092048 0.16961803 0.181866   0.17257358 0.16904195\n",
            " 0.18149029 0.16385723 0.16105197 0.15757044 0.16568566 0.17232311\n",
            " 0.17392611 0.18407013 0.18146525 0.18169067 0.17873513 0.17715717\n",
            " 0.18827802 0.18249217 0.17051972 0.16320601 0.16363181 0.1636819\n",
            " 0.17092048 0.17204759 0.1636819  0.16588604 0.15769568 0.14875391\n",
            " 0.14444584 0.13918597 0.13720726 0.13259862 0.1323732  0.13119599\n",
            " 0.15902317 0.17016907 0.16974327 0.17282405 0.16546024 0.15405726\n",
            " 0.15833184 0.16118535 0.16294123 0.16397791]\n",
            "5 day output [[0.16459197]]\n",
            "6 day input [0.0977082  0.10016281 0.10038823 0.09650595 0.0878397  0.09014402\n",
            " 0.08681277 0.08969317 0.08090169 0.08583594 0.08806512 0.09129618\n",
            " 0.09031935 0.09009393 0.08683782 0.085335   0.09247339 0.09517846\n",
            " 0.09946149 0.10499687 0.10624922 0.10680025 0.10482154 0.10469631\n",
            " 0.1063995  0.10522229 0.11453976 0.10760175 0.10549781 0.10815279\n",
            " 0.11183469 0.1105072  0.1113087  0.10920476 0.1101315  0.10289292\n",
            " 0.10276769 0.10807765 0.10810269 0.11060739 0.11684408 0.12781465\n",
            " 0.13452724 0.13570445 0.13668128 0.13800877 0.12515967 0.13375078\n",
            " 0.14642455 0.14509706 0.14256731 0.1377583  0.14647464 0.16115216\n",
            " 0.17092048 0.16961803 0.181866   0.17257358 0.16904195 0.18149029\n",
            " 0.16385723 0.16105197 0.15757044 0.16568566 0.17232311 0.17392611\n",
            " 0.18407013 0.18146525 0.18169067 0.17873513 0.17715717 0.18827802\n",
            " 0.18249217 0.17051972 0.16320601 0.16363181 0.1636819  0.17092048\n",
            " 0.17204759 0.1636819  0.16588604 0.15769568 0.14875391 0.14444584\n",
            " 0.13918597 0.13720726 0.13259862 0.1323732  0.13119599 0.15902317\n",
            " 0.17016907 0.16974327 0.17282405 0.16546024 0.15405726 0.15833184\n",
            " 0.16118535 0.16294123 0.16397791 0.16459197]\n",
            "6 day output [[0.16497551]]\n",
            "7 day input [0.10016281 0.10038823 0.09650595 0.0878397  0.09014402 0.08681277\n",
            " 0.08969317 0.08090169 0.08583594 0.08806512 0.09129618 0.09031935\n",
            " 0.09009393 0.08683782 0.085335   0.09247339 0.09517846 0.09946149\n",
            " 0.10499687 0.10624922 0.10680025 0.10482154 0.10469631 0.1063995\n",
            " 0.10522229 0.11453976 0.10760175 0.10549781 0.10815279 0.11183469\n",
            " 0.1105072  0.1113087  0.10920476 0.1101315  0.10289292 0.10276769\n",
            " 0.10807765 0.10810269 0.11060739 0.11684408 0.12781465 0.13452724\n",
            " 0.13570445 0.13668128 0.13800877 0.12515967 0.13375078 0.14642455\n",
            " 0.14509706 0.14256731 0.1377583  0.14647464 0.16115216 0.17092048\n",
            " 0.16961803 0.181866   0.17257358 0.16904195 0.18149029 0.16385723\n",
            " 0.16105197 0.15757044 0.16568566 0.17232311 0.17392611 0.18407013\n",
            " 0.18146525 0.18169067 0.17873513 0.17715717 0.18827802 0.18249217\n",
            " 0.17051972 0.16320601 0.16363181 0.1636819  0.17092048 0.17204759\n",
            " 0.1636819  0.16588604 0.15769568 0.14875391 0.14444584 0.13918597\n",
            " 0.13720726 0.13259862 0.1323732  0.13119599 0.15902317 0.17016907\n",
            " 0.16974327 0.17282405 0.16546024 0.15405726 0.15833184 0.16118535\n",
            " 0.16294123 0.16397791 0.16459197 0.16497551]\n",
            "7 day output [[0.16523646]]\n",
            "8 day input [0.10038823 0.09650595 0.0878397  0.09014402 0.08681277 0.08969317\n",
            " 0.08090169 0.08583594 0.08806512 0.09129618 0.09031935 0.09009393\n",
            " 0.08683782 0.085335   0.09247339 0.09517846 0.09946149 0.10499687\n",
            " 0.10624922 0.10680025 0.10482154 0.10469631 0.1063995  0.10522229\n",
            " 0.11453976 0.10760175 0.10549781 0.10815279 0.11183469 0.1105072\n",
            " 0.1113087  0.10920476 0.1101315  0.10289292 0.10276769 0.10807765\n",
            " 0.10810269 0.11060739 0.11684408 0.12781465 0.13452724 0.13570445\n",
            " 0.13668128 0.13800877 0.12515967 0.13375078 0.14642455 0.14509706\n",
            " 0.14256731 0.1377583  0.14647464 0.16115216 0.17092048 0.16961803\n",
            " 0.181866   0.17257358 0.16904195 0.18149029 0.16385723 0.16105197\n",
            " 0.15757044 0.16568566 0.17232311 0.17392611 0.18407013 0.18146525\n",
            " 0.18169067 0.17873513 0.17715717 0.18827802 0.18249217 0.17051972\n",
            " 0.16320601 0.16363181 0.1636819  0.17092048 0.17204759 0.1636819\n",
            " 0.16588604 0.15769568 0.14875391 0.14444584 0.13918597 0.13720726\n",
            " 0.13259862 0.1323732  0.13119599 0.15902317 0.17016907 0.16974327\n",
            " 0.17282405 0.16546024 0.15405726 0.15833184 0.16118535 0.16294123\n",
            " 0.16397791 0.16459197 0.16497551 0.16523646]\n",
            "8 day output [[0.16542847]]\n",
            "9 day input [0.09650595 0.0878397  0.09014402 0.08681277 0.08969317 0.08090169\n",
            " 0.08583594 0.08806512 0.09129618 0.09031935 0.09009393 0.08683782\n",
            " 0.085335   0.09247339 0.09517846 0.09946149 0.10499687 0.10624922\n",
            " 0.10680025 0.10482154 0.10469631 0.1063995  0.10522229 0.11453976\n",
            " 0.10760175 0.10549781 0.10815279 0.11183469 0.1105072  0.1113087\n",
            " 0.10920476 0.1101315  0.10289292 0.10276769 0.10807765 0.10810269\n",
            " 0.11060739 0.11684408 0.12781465 0.13452724 0.13570445 0.13668128\n",
            " 0.13800877 0.12515967 0.13375078 0.14642455 0.14509706 0.14256731\n",
            " 0.1377583  0.14647464 0.16115216 0.17092048 0.16961803 0.181866\n",
            " 0.17257358 0.16904195 0.18149029 0.16385723 0.16105197 0.15757044\n",
            " 0.16568566 0.17232311 0.17392611 0.18407013 0.18146525 0.18169067\n",
            " 0.17873513 0.17715717 0.18827802 0.18249217 0.17051972 0.16320601\n",
            " 0.16363181 0.1636819  0.17092048 0.17204759 0.1636819  0.16588604\n",
            " 0.15769568 0.14875391 0.14444584 0.13918597 0.13720726 0.13259862\n",
            " 0.1323732  0.13119599 0.15902317 0.17016907 0.16974327 0.17282405\n",
            " 0.16546024 0.15405726 0.15833184 0.16118535 0.16294123 0.16397791\n",
            " 0.16459197 0.16497551 0.16523646 0.16542847]\n",
            "9 day output [[0.16557452]]\n",
            "10 day input [0.0878397  0.09014402 0.08681277 0.08969317 0.08090169 0.08583594\n",
            " 0.08806512 0.09129618 0.09031935 0.09009393 0.08683782 0.085335\n",
            " 0.09247339 0.09517846 0.09946149 0.10499687 0.10624922 0.10680025\n",
            " 0.10482154 0.10469631 0.1063995  0.10522229 0.11453976 0.10760175\n",
            " 0.10549781 0.10815279 0.11183469 0.1105072  0.1113087  0.10920476\n",
            " 0.1101315  0.10289292 0.10276769 0.10807765 0.10810269 0.11060739\n",
            " 0.11684408 0.12781465 0.13452724 0.13570445 0.13668128 0.13800877\n",
            " 0.12515967 0.13375078 0.14642455 0.14509706 0.14256731 0.1377583\n",
            " 0.14647464 0.16115216 0.17092048 0.16961803 0.181866   0.17257358\n",
            " 0.16904195 0.18149029 0.16385723 0.16105197 0.15757044 0.16568566\n",
            " 0.17232311 0.17392611 0.18407013 0.18146525 0.18169067 0.17873513\n",
            " 0.17715717 0.18827802 0.18249217 0.17051972 0.16320601 0.16363181\n",
            " 0.1636819  0.17092048 0.17204759 0.1636819  0.16588604 0.15769568\n",
            " 0.14875391 0.14444584 0.13918597 0.13720726 0.13259862 0.1323732\n",
            " 0.13119599 0.15902317 0.17016907 0.16974327 0.17282405 0.16546024\n",
            " 0.15405726 0.15833184 0.16118535 0.16294123 0.16397791 0.16459197\n",
            " 0.16497551 0.16523646 0.16542847 0.16557452]\n",
            "10 day output [[0.16568324]]\n",
            "11 day input [0.09014402 0.08681277 0.08969317 0.08090169 0.08583594 0.08806512\n",
            " 0.09129618 0.09031935 0.09009393 0.08683782 0.085335   0.09247339\n",
            " 0.09517846 0.09946149 0.10499687 0.10624922 0.10680025 0.10482154\n",
            " 0.10469631 0.1063995  0.10522229 0.11453976 0.10760175 0.10549781\n",
            " 0.10815279 0.11183469 0.1105072  0.1113087  0.10920476 0.1101315\n",
            " 0.10289292 0.10276769 0.10807765 0.10810269 0.11060739 0.11684408\n",
            " 0.12781465 0.13452724 0.13570445 0.13668128 0.13800877 0.12515967\n",
            " 0.13375078 0.14642455 0.14509706 0.14256731 0.1377583  0.14647464\n",
            " 0.16115216 0.17092048 0.16961803 0.181866   0.17257358 0.16904195\n",
            " 0.18149029 0.16385723 0.16105197 0.15757044 0.16568566 0.17232311\n",
            " 0.17392611 0.18407013 0.18146525 0.18169067 0.17873513 0.17715717\n",
            " 0.18827802 0.18249217 0.17051972 0.16320601 0.16363181 0.1636819\n",
            " 0.17092048 0.17204759 0.1636819  0.16588604 0.15769568 0.14875391\n",
            " 0.14444584 0.13918597 0.13720726 0.13259862 0.1323732  0.13119599\n",
            " 0.15902317 0.17016907 0.16974327 0.17282405 0.16546024 0.15405726\n",
            " 0.15833184 0.16118535 0.16294123 0.16397791 0.16459197 0.16497551\n",
            " 0.16523646 0.16542847 0.16557452 0.16568324]\n",
            "11 day output [[0.16575782]]\n",
            "12 day input [0.08681277 0.08969317 0.08090169 0.08583594 0.08806512 0.09129618\n",
            " 0.09031935 0.09009393 0.08683782 0.085335   0.09247339 0.09517846\n",
            " 0.09946149 0.10499687 0.10624922 0.10680025 0.10482154 0.10469631\n",
            " 0.1063995  0.10522229 0.11453976 0.10760175 0.10549781 0.10815279\n",
            " 0.11183469 0.1105072  0.1113087  0.10920476 0.1101315  0.10289292\n",
            " 0.10276769 0.10807765 0.10810269 0.11060739 0.11684408 0.12781465\n",
            " 0.13452724 0.13570445 0.13668128 0.13800877 0.12515967 0.13375078\n",
            " 0.14642455 0.14509706 0.14256731 0.1377583  0.14647464 0.16115216\n",
            " 0.17092048 0.16961803 0.181866   0.17257358 0.16904195 0.18149029\n",
            " 0.16385723 0.16105197 0.15757044 0.16568566 0.17232311 0.17392611\n",
            " 0.18407013 0.18146525 0.18169067 0.17873513 0.17715717 0.18827802\n",
            " 0.18249217 0.17051972 0.16320601 0.16363181 0.1636819  0.17092048\n",
            " 0.17204759 0.1636819  0.16588604 0.15769568 0.14875391 0.14444584\n",
            " 0.13918597 0.13720726 0.13259862 0.1323732  0.13119599 0.15902317\n",
            " 0.17016907 0.16974327 0.17282405 0.16546024 0.15405726 0.15833184\n",
            " 0.16118535 0.16294123 0.16397791 0.16459197 0.16497551 0.16523646\n",
            " 0.16542847 0.16557452 0.16568324 0.16575782]\n",
            "12 day output [[0.16580029]]\n",
            "13 day input [0.08969317 0.08090169 0.08583594 0.08806512 0.09129618 0.09031935\n",
            " 0.09009393 0.08683782 0.085335   0.09247339 0.09517846 0.09946149\n",
            " 0.10499687 0.10624922 0.10680025 0.10482154 0.10469631 0.1063995\n",
            " 0.10522229 0.11453976 0.10760175 0.10549781 0.10815279 0.11183469\n",
            " 0.1105072  0.1113087  0.10920476 0.1101315  0.10289292 0.10276769\n",
            " 0.10807765 0.10810269 0.11060739 0.11684408 0.12781465 0.13452724\n",
            " 0.13570445 0.13668128 0.13800877 0.12515967 0.13375078 0.14642455\n",
            " 0.14509706 0.14256731 0.1377583  0.14647464 0.16115216 0.17092048\n",
            " 0.16961803 0.181866   0.17257358 0.16904195 0.18149029 0.16385723\n",
            " 0.16105197 0.15757044 0.16568566 0.17232311 0.17392611 0.18407013\n",
            " 0.18146525 0.18169067 0.17873513 0.17715717 0.18827802 0.18249217\n",
            " 0.17051972 0.16320601 0.16363181 0.1636819  0.17092048 0.17204759\n",
            " 0.1636819  0.16588604 0.15769568 0.14875391 0.14444584 0.13918597\n",
            " 0.13720726 0.13259862 0.1323732  0.13119599 0.15902317 0.17016907\n",
            " 0.16974327 0.17282405 0.16546024 0.15405726 0.15833184 0.16118535\n",
            " 0.16294123 0.16397791 0.16459197 0.16497551 0.16523646 0.16542847\n",
            " 0.16557452 0.16568324 0.16575782 0.16580029]\n",
            "13 day output [[0.16581301]]\n",
            "14 day input [0.08090169 0.08583594 0.08806512 0.09129618 0.09031935 0.09009393\n",
            " 0.08683782 0.085335   0.09247339 0.09517846 0.09946149 0.10499687\n",
            " 0.10624922 0.10680025 0.10482154 0.10469631 0.1063995  0.10522229\n",
            " 0.11453976 0.10760175 0.10549781 0.10815279 0.11183469 0.1105072\n",
            " 0.1113087  0.10920476 0.1101315  0.10289292 0.10276769 0.10807765\n",
            " 0.10810269 0.11060739 0.11684408 0.12781465 0.13452724 0.13570445\n",
            " 0.13668128 0.13800877 0.12515967 0.13375078 0.14642455 0.14509706\n",
            " 0.14256731 0.1377583  0.14647464 0.16115216 0.17092048 0.16961803\n",
            " 0.181866   0.17257358 0.16904195 0.18149029 0.16385723 0.16105197\n",
            " 0.15757044 0.16568566 0.17232311 0.17392611 0.18407013 0.18146525\n",
            " 0.18169067 0.17873513 0.17715717 0.18827802 0.18249217 0.17051972\n",
            " 0.16320601 0.16363181 0.1636819  0.17092048 0.17204759 0.1636819\n",
            " 0.16588604 0.15769568 0.14875391 0.14444584 0.13918597 0.13720726\n",
            " 0.13259862 0.1323732  0.13119599 0.15902317 0.17016907 0.16974327\n",
            " 0.17282405 0.16546024 0.15405726 0.15833184 0.16118535 0.16294123\n",
            " 0.16397791 0.16459197 0.16497551 0.16523646 0.16542847 0.16557452\n",
            " 0.16568324 0.16575782 0.16580029 0.16581301]\n",
            "14 day output [[0.16579913]]\n",
            "15 day input [0.08583594 0.08806512 0.09129618 0.09031935 0.09009393 0.08683782\n",
            " 0.085335   0.09247339 0.09517846 0.09946149 0.10499687 0.10624922\n",
            " 0.10680025 0.10482154 0.10469631 0.1063995  0.10522229 0.11453976\n",
            " 0.10760175 0.10549781 0.10815279 0.11183469 0.1105072  0.1113087\n",
            " 0.10920476 0.1101315  0.10289292 0.10276769 0.10807765 0.10810269\n",
            " 0.11060739 0.11684408 0.12781465 0.13452724 0.13570445 0.13668128\n",
            " 0.13800877 0.12515967 0.13375078 0.14642455 0.14509706 0.14256731\n",
            " 0.1377583  0.14647464 0.16115216 0.17092048 0.16961803 0.181866\n",
            " 0.17257358 0.16904195 0.18149029 0.16385723 0.16105197 0.15757044\n",
            " 0.16568566 0.17232311 0.17392611 0.18407013 0.18146525 0.18169067\n",
            " 0.17873513 0.17715717 0.18827802 0.18249217 0.17051972 0.16320601\n",
            " 0.16363181 0.1636819  0.17092048 0.17204759 0.1636819  0.16588604\n",
            " 0.15769568 0.14875391 0.14444584 0.13918597 0.13720726 0.13259862\n",
            " 0.1323732  0.13119599 0.15902317 0.17016907 0.16974327 0.17282405\n",
            " 0.16546024 0.15405726 0.15833184 0.16118535 0.16294123 0.16397791\n",
            " 0.16459197 0.16497551 0.16523646 0.16542847 0.16557452 0.16568324\n",
            " 0.16575782 0.16580029 0.16581301 0.16579913]\n",
            "15 day output [[0.16576216]]\n",
            "16 day input [0.08806512 0.09129618 0.09031935 0.09009393 0.08683782 0.085335\n",
            " 0.09247339 0.09517846 0.09946149 0.10499687 0.10624922 0.10680025\n",
            " 0.10482154 0.10469631 0.1063995  0.10522229 0.11453976 0.10760175\n",
            " 0.10549781 0.10815279 0.11183469 0.1105072  0.1113087  0.10920476\n",
            " 0.1101315  0.10289292 0.10276769 0.10807765 0.10810269 0.11060739\n",
            " 0.11684408 0.12781465 0.13452724 0.13570445 0.13668128 0.13800877\n",
            " 0.12515967 0.13375078 0.14642455 0.14509706 0.14256731 0.1377583\n",
            " 0.14647464 0.16115216 0.17092048 0.16961803 0.181866   0.17257358\n",
            " 0.16904195 0.18149029 0.16385723 0.16105197 0.15757044 0.16568566\n",
            " 0.17232311 0.17392611 0.18407013 0.18146525 0.18169067 0.17873513\n",
            " 0.17715717 0.18827802 0.18249217 0.17051972 0.16320601 0.16363181\n",
            " 0.1636819  0.17092048 0.17204759 0.1636819  0.16588604 0.15769568\n",
            " 0.14875391 0.14444584 0.13918597 0.13720726 0.13259862 0.1323732\n",
            " 0.13119599 0.15902317 0.17016907 0.16974327 0.17282405 0.16546024\n",
            " 0.15405726 0.15833184 0.16118535 0.16294123 0.16397791 0.16459197\n",
            " 0.16497551 0.16523646 0.16542847 0.16557452 0.16568324 0.16575782\n",
            " 0.16580029 0.16581301 0.16579913 0.16576216]\n",
            "16 day output [[0.16570576]]\n",
            "17 day input [0.09129618 0.09031935 0.09009393 0.08683782 0.085335   0.09247339\n",
            " 0.09517846 0.09946149 0.10499687 0.10624922 0.10680025 0.10482154\n",
            " 0.10469631 0.1063995  0.10522229 0.11453976 0.10760175 0.10549781\n",
            " 0.10815279 0.11183469 0.1105072  0.1113087  0.10920476 0.1101315\n",
            " 0.10289292 0.10276769 0.10807765 0.10810269 0.11060739 0.11684408\n",
            " 0.12781465 0.13452724 0.13570445 0.13668128 0.13800877 0.12515967\n",
            " 0.13375078 0.14642455 0.14509706 0.14256731 0.1377583  0.14647464\n",
            " 0.16115216 0.17092048 0.16961803 0.181866   0.17257358 0.16904195\n",
            " 0.18149029 0.16385723 0.16105197 0.15757044 0.16568566 0.17232311\n",
            " 0.17392611 0.18407013 0.18146525 0.18169067 0.17873513 0.17715717\n",
            " 0.18827802 0.18249217 0.17051972 0.16320601 0.16363181 0.1636819\n",
            " 0.17092048 0.17204759 0.1636819  0.16588604 0.15769568 0.14875391\n",
            " 0.14444584 0.13918597 0.13720726 0.13259862 0.1323732  0.13119599\n",
            " 0.15902317 0.17016907 0.16974327 0.17282405 0.16546024 0.15405726\n",
            " 0.15833184 0.16118535 0.16294123 0.16397791 0.16459197 0.16497551\n",
            " 0.16523646 0.16542847 0.16557452 0.16568324 0.16575782 0.16580029\n",
            " 0.16581301 0.16579913 0.16576216 0.16570576]\n",
            "17 day output [[0.16563357]]\n",
            "18 day input [0.09031935 0.09009393 0.08683782 0.085335   0.09247339 0.09517846\n",
            " 0.09946149 0.10499687 0.10624922 0.10680025 0.10482154 0.10469631\n",
            " 0.1063995  0.10522229 0.11453976 0.10760175 0.10549781 0.10815279\n",
            " 0.11183469 0.1105072  0.1113087  0.10920476 0.1101315  0.10289292\n",
            " 0.10276769 0.10807765 0.10810269 0.11060739 0.11684408 0.12781465\n",
            " 0.13452724 0.13570445 0.13668128 0.13800877 0.12515967 0.13375078\n",
            " 0.14642455 0.14509706 0.14256731 0.1377583  0.14647464 0.16115216\n",
            " 0.17092048 0.16961803 0.181866   0.17257358 0.16904195 0.18149029\n",
            " 0.16385723 0.16105197 0.15757044 0.16568566 0.17232311 0.17392611\n",
            " 0.18407013 0.18146525 0.18169067 0.17873513 0.17715717 0.18827802\n",
            " 0.18249217 0.17051972 0.16320601 0.16363181 0.1636819  0.17092048\n",
            " 0.17204759 0.1636819  0.16588604 0.15769568 0.14875391 0.14444584\n",
            " 0.13918597 0.13720726 0.13259862 0.1323732  0.13119599 0.15902317\n",
            " 0.17016907 0.16974327 0.17282405 0.16546024 0.15405726 0.15833184\n",
            " 0.16118535 0.16294123 0.16397791 0.16459197 0.16497551 0.16523646\n",
            " 0.16542847 0.16557452 0.16568324 0.16575782 0.16580029 0.16581301\n",
            " 0.16579913 0.16576216 0.16570576 0.16563357]\n",
            "18 day output [[0.16554898]]\n",
            "19 day input [0.09009393 0.08683782 0.085335   0.09247339 0.09517846 0.09946149\n",
            " 0.10499687 0.10624922 0.10680025 0.10482154 0.10469631 0.1063995\n",
            " 0.10522229 0.11453976 0.10760175 0.10549781 0.10815279 0.11183469\n",
            " 0.1105072  0.1113087  0.10920476 0.1101315  0.10289292 0.10276769\n",
            " 0.10807765 0.10810269 0.11060739 0.11684408 0.12781465 0.13452724\n",
            " 0.13570445 0.13668128 0.13800877 0.12515967 0.13375078 0.14642455\n",
            " 0.14509706 0.14256731 0.1377583  0.14647464 0.16115216 0.17092048\n",
            " 0.16961803 0.181866   0.17257358 0.16904195 0.18149029 0.16385723\n",
            " 0.16105197 0.15757044 0.16568566 0.17232311 0.17392611 0.18407013\n",
            " 0.18146525 0.18169067 0.17873513 0.17715717 0.18827802 0.18249217\n",
            " 0.17051972 0.16320601 0.16363181 0.1636819  0.17092048 0.17204759\n",
            " 0.1636819  0.16588604 0.15769568 0.14875391 0.14444584 0.13918597\n",
            " 0.13720726 0.13259862 0.1323732  0.13119599 0.15902317 0.17016907\n",
            " 0.16974327 0.17282405 0.16546024 0.15405726 0.15833184 0.16118535\n",
            " 0.16294123 0.16397791 0.16459197 0.16497551 0.16523646 0.16542847\n",
            " 0.16557452 0.16568324 0.16575782 0.16580029 0.16581301 0.16579913\n",
            " 0.16576216 0.16570576 0.16563357 0.16554898]\n",
            "19 day output [[0.16545495]]\n",
            "20 day input [0.08683782 0.085335   0.09247339 0.09517846 0.09946149 0.10499687\n",
            " 0.10624922 0.10680025 0.10482154 0.10469631 0.1063995  0.10522229\n",
            " 0.11453976 0.10760175 0.10549781 0.10815279 0.11183469 0.1105072\n",
            " 0.1113087  0.10920476 0.1101315  0.10289292 0.10276769 0.10807765\n",
            " 0.10810269 0.11060739 0.11684408 0.12781465 0.13452724 0.13570445\n",
            " 0.13668128 0.13800877 0.12515967 0.13375078 0.14642455 0.14509706\n",
            " 0.14256731 0.1377583  0.14647464 0.16115216 0.17092048 0.16961803\n",
            " 0.181866   0.17257358 0.16904195 0.18149029 0.16385723 0.16105197\n",
            " 0.15757044 0.16568566 0.17232311 0.17392611 0.18407013 0.18146525\n",
            " 0.18169067 0.17873513 0.17715717 0.18827802 0.18249217 0.17051972\n",
            " 0.16320601 0.16363181 0.1636819  0.17092048 0.17204759 0.1636819\n",
            " 0.16588604 0.15769568 0.14875391 0.14444584 0.13918597 0.13720726\n",
            " 0.13259862 0.1323732  0.13119599 0.15902317 0.17016907 0.16974327\n",
            " 0.17282405 0.16546024 0.15405726 0.15833184 0.16118535 0.16294123\n",
            " 0.16397791 0.16459197 0.16497551 0.16523646 0.16542847 0.16557452\n",
            " 0.16568324 0.16575782 0.16580029 0.16581301 0.16579913 0.16576216\n",
            " 0.16570576 0.16563357 0.16554898 0.16545495]\n",
            "20 day output [[0.16535413]]\n",
            "21 day input [0.085335   0.09247339 0.09517846 0.09946149 0.10499687 0.10624922\n",
            " 0.10680025 0.10482154 0.10469631 0.1063995  0.10522229 0.11453976\n",
            " 0.10760175 0.10549781 0.10815279 0.11183469 0.1105072  0.1113087\n",
            " 0.10920476 0.1101315  0.10289292 0.10276769 0.10807765 0.10810269\n",
            " 0.11060739 0.11684408 0.12781465 0.13452724 0.13570445 0.13668128\n",
            " 0.13800877 0.12515967 0.13375078 0.14642455 0.14509706 0.14256731\n",
            " 0.1377583  0.14647464 0.16115216 0.17092048 0.16961803 0.181866\n",
            " 0.17257358 0.16904195 0.18149029 0.16385723 0.16105197 0.15757044\n",
            " 0.16568566 0.17232311 0.17392611 0.18407013 0.18146525 0.18169067\n",
            " 0.17873513 0.17715717 0.18827802 0.18249217 0.17051972 0.16320601\n",
            " 0.16363181 0.1636819  0.17092048 0.17204759 0.1636819  0.16588604\n",
            " 0.15769568 0.14875391 0.14444584 0.13918597 0.13720726 0.13259862\n",
            " 0.1323732  0.13119599 0.15902317 0.17016907 0.16974327 0.17282405\n",
            " 0.16546024 0.15405726 0.15833184 0.16118535 0.16294123 0.16397791\n",
            " 0.16459197 0.16497551 0.16523646 0.16542847 0.16557452 0.16568324\n",
            " 0.16575782 0.16580029 0.16581301 0.16579913 0.16576216 0.16570576\n",
            " 0.16563357 0.16554898 0.16545495 0.16535413]\n",
            "21 day output [[0.1652488]]\n",
            "22 day input [0.09247339 0.09517846 0.09946149 0.10499687 0.10624922 0.10680025\n",
            " 0.10482154 0.10469631 0.1063995  0.10522229 0.11453976 0.10760175\n",
            " 0.10549781 0.10815279 0.11183469 0.1105072  0.1113087  0.10920476\n",
            " 0.1101315  0.10289292 0.10276769 0.10807765 0.10810269 0.11060739\n",
            " 0.11684408 0.12781465 0.13452724 0.13570445 0.13668128 0.13800877\n",
            " 0.12515967 0.13375078 0.14642455 0.14509706 0.14256731 0.1377583\n",
            " 0.14647464 0.16115216 0.17092048 0.16961803 0.181866   0.17257358\n",
            " 0.16904195 0.18149029 0.16385723 0.16105197 0.15757044 0.16568566\n",
            " 0.17232311 0.17392611 0.18407013 0.18146525 0.18169067 0.17873513\n",
            " 0.17715717 0.18827802 0.18249217 0.17051972 0.16320601 0.16363181\n",
            " 0.1636819  0.17092048 0.17204759 0.1636819  0.16588604 0.15769568\n",
            " 0.14875391 0.14444584 0.13918597 0.13720726 0.13259862 0.1323732\n",
            " 0.13119599 0.15902317 0.17016907 0.16974327 0.17282405 0.16546024\n",
            " 0.15405726 0.15833184 0.16118535 0.16294123 0.16397791 0.16459197\n",
            " 0.16497551 0.16523646 0.16542847 0.16557452 0.16568324 0.16575782\n",
            " 0.16580029 0.16581301 0.16579913 0.16576216 0.16570576 0.16563357\n",
            " 0.16554898 0.16545495 0.16535413 0.1652488 ]\n",
            "22 day output [[0.16514084]]\n",
            "23 day input [0.09517846 0.09946149 0.10499687 0.10624922 0.10680025 0.10482154\n",
            " 0.10469631 0.1063995  0.10522229 0.11453976 0.10760175 0.10549781\n",
            " 0.10815279 0.11183469 0.1105072  0.1113087  0.10920476 0.1101315\n",
            " 0.10289292 0.10276769 0.10807765 0.10810269 0.11060739 0.11684408\n",
            " 0.12781465 0.13452724 0.13570445 0.13668128 0.13800877 0.12515967\n",
            " 0.13375078 0.14642455 0.14509706 0.14256731 0.1377583  0.14647464\n",
            " 0.16115216 0.17092048 0.16961803 0.181866   0.17257358 0.16904195\n",
            " 0.18149029 0.16385723 0.16105197 0.15757044 0.16568566 0.17232311\n",
            " 0.17392611 0.18407013 0.18146525 0.18169067 0.17873513 0.17715717\n",
            " 0.18827802 0.18249217 0.17051972 0.16320601 0.16363181 0.1636819\n",
            " 0.17092048 0.17204759 0.1636819  0.16588604 0.15769568 0.14875391\n",
            " 0.14444584 0.13918597 0.13720726 0.13259862 0.1323732  0.13119599\n",
            " 0.15902317 0.17016907 0.16974327 0.17282405 0.16546024 0.15405726\n",
            " 0.15833184 0.16118535 0.16294123 0.16397791 0.16459197 0.16497551\n",
            " 0.16523646 0.16542847 0.16557452 0.16568324 0.16575782 0.16580029\n",
            " 0.16581301 0.16579913 0.16576216 0.16570576 0.16563357 0.16554898\n",
            " 0.16545495 0.16535413 0.1652488  0.16514084]\n",
            "23 day output [[0.16503197]]\n",
            "24 day input [0.09946149 0.10499687 0.10624922 0.10680025 0.10482154 0.10469631\n",
            " 0.1063995  0.10522229 0.11453976 0.10760175 0.10549781 0.10815279\n",
            " 0.11183469 0.1105072  0.1113087  0.10920476 0.1101315  0.10289292\n",
            " 0.10276769 0.10807765 0.10810269 0.11060739 0.11684408 0.12781465\n",
            " 0.13452724 0.13570445 0.13668128 0.13800877 0.12515967 0.13375078\n",
            " 0.14642455 0.14509706 0.14256731 0.1377583  0.14647464 0.16115216\n",
            " 0.17092048 0.16961803 0.181866   0.17257358 0.16904195 0.18149029\n",
            " 0.16385723 0.16105197 0.15757044 0.16568566 0.17232311 0.17392611\n",
            " 0.18407013 0.18146525 0.18169067 0.17873513 0.17715717 0.18827802\n",
            " 0.18249217 0.17051972 0.16320601 0.16363181 0.1636819  0.17092048\n",
            " 0.17204759 0.1636819  0.16588604 0.15769568 0.14875391 0.14444584\n",
            " 0.13918597 0.13720726 0.13259862 0.1323732  0.13119599 0.15902317\n",
            " 0.17016907 0.16974327 0.17282405 0.16546024 0.15405726 0.15833184\n",
            " 0.16118535 0.16294123 0.16397791 0.16459197 0.16497551 0.16523646\n",
            " 0.16542847 0.16557452 0.16568324 0.16575782 0.16580029 0.16581301\n",
            " 0.16579913 0.16576216 0.16570576 0.16563357 0.16554898 0.16545495\n",
            " 0.16535413 0.1652488  0.16514084 0.16503197]\n",
            "24 day output [[0.16492337]]\n",
            "25 day input [0.10499687 0.10624922 0.10680025 0.10482154 0.10469631 0.1063995\n",
            " 0.10522229 0.11453976 0.10760175 0.10549781 0.10815279 0.11183469\n",
            " 0.1105072  0.1113087  0.10920476 0.1101315  0.10289292 0.10276769\n",
            " 0.10807765 0.10810269 0.11060739 0.11684408 0.12781465 0.13452724\n",
            " 0.13570445 0.13668128 0.13800877 0.12515967 0.13375078 0.14642455\n",
            " 0.14509706 0.14256731 0.1377583  0.14647464 0.16115216 0.17092048\n",
            " 0.16961803 0.181866   0.17257358 0.16904195 0.18149029 0.16385723\n",
            " 0.16105197 0.15757044 0.16568566 0.17232311 0.17392611 0.18407013\n",
            " 0.18146525 0.18169067 0.17873513 0.17715717 0.18827802 0.18249217\n",
            " 0.17051972 0.16320601 0.16363181 0.1636819  0.17092048 0.17204759\n",
            " 0.1636819  0.16588604 0.15769568 0.14875391 0.14444584 0.13918597\n",
            " 0.13720726 0.13259862 0.1323732  0.13119599 0.15902317 0.17016907\n",
            " 0.16974327 0.17282405 0.16546024 0.15405726 0.15833184 0.16118535\n",
            " 0.16294123 0.16397791 0.16459197 0.16497551 0.16523646 0.16542847\n",
            " 0.16557452 0.16568324 0.16575782 0.16580029 0.16581301 0.16579913\n",
            " 0.16576216 0.16570576 0.16563357 0.16554898 0.16545495 0.16535413\n",
            " 0.1652488  0.16514084 0.16503197 0.16492337]\n",
            "25 day output [[0.1648163]]\n",
            "26 day input [0.10624922 0.10680025 0.10482154 0.10469631 0.1063995  0.10522229\n",
            " 0.11453976 0.10760175 0.10549781 0.10815279 0.11183469 0.1105072\n",
            " 0.1113087  0.10920476 0.1101315  0.10289292 0.10276769 0.10807765\n",
            " 0.10810269 0.11060739 0.11684408 0.12781465 0.13452724 0.13570445\n",
            " 0.13668128 0.13800877 0.12515967 0.13375078 0.14642455 0.14509706\n",
            " 0.14256731 0.1377583  0.14647464 0.16115216 0.17092048 0.16961803\n",
            " 0.181866   0.17257358 0.16904195 0.18149029 0.16385723 0.16105197\n",
            " 0.15757044 0.16568566 0.17232311 0.17392611 0.18407013 0.18146525\n",
            " 0.18169067 0.17873513 0.17715717 0.18827802 0.18249217 0.17051972\n",
            " 0.16320601 0.16363181 0.1636819  0.17092048 0.17204759 0.1636819\n",
            " 0.16588604 0.15769568 0.14875391 0.14444584 0.13918597 0.13720726\n",
            " 0.13259862 0.1323732  0.13119599 0.15902317 0.17016907 0.16974327\n",
            " 0.17282405 0.16546024 0.15405726 0.15833184 0.16118535 0.16294123\n",
            " 0.16397791 0.16459197 0.16497551 0.16523646 0.16542847 0.16557452\n",
            " 0.16568324 0.16575782 0.16580029 0.16581301 0.16579913 0.16576216\n",
            " 0.16570576 0.16563357 0.16554898 0.16545495 0.16535413 0.1652488\n",
            " 0.16514084 0.16503197 0.16492337 0.16481631]\n",
            "26 day output [[0.16471158]]\n",
            "27 day input [0.10680025 0.10482154 0.10469631 0.1063995  0.10522229 0.11453976\n",
            " 0.10760175 0.10549781 0.10815279 0.11183469 0.1105072  0.1113087\n",
            " 0.10920476 0.1101315  0.10289292 0.10276769 0.10807765 0.10810269\n",
            " 0.11060739 0.11684408 0.12781465 0.13452724 0.13570445 0.13668128\n",
            " 0.13800877 0.12515967 0.13375078 0.14642455 0.14509706 0.14256731\n",
            " 0.1377583  0.14647464 0.16115216 0.17092048 0.16961803 0.181866\n",
            " 0.17257358 0.16904195 0.18149029 0.16385723 0.16105197 0.15757044\n",
            " 0.16568566 0.17232311 0.17392611 0.18407013 0.18146525 0.18169067\n",
            " 0.17873513 0.17715717 0.18827802 0.18249217 0.17051972 0.16320601\n",
            " 0.16363181 0.1636819  0.17092048 0.17204759 0.1636819  0.16588604\n",
            " 0.15769568 0.14875391 0.14444584 0.13918597 0.13720726 0.13259862\n",
            " 0.1323732  0.13119599 0.15902317 0.17016907 0.16974327 0.17282405\n",
            " 0.16546024 0.15405726 0.15833184 0.16118535 0.16294123 0.16397791\n",
            " 0.16459197 0.16497551 0.16523646 0.16542847 0.16557452 0.16568324\n",
            " 0.16575782 0.16580029 0.16581301 0.16579913 0.16576216 0.16570576\n",
            " 0.16563357 0.16554898 0.16545495 0.16535413 0.1652488  0.16514084\n",
            " 0.16503197 0.16492337 0.16481631 0.16471158]\n",
            "27 day output [[0.16460988]]\n",
            "28 day input [0.10482154 0.10469631 0.1063995  0.10522229 0.11453976 0.10760175\n",
            " 0.10549781 0.10815279 0.11183469 0.1105072  0.1113087  0.10920476\n",
            " 0.1101315  0.10289292 0.10276769 0.10807765 0.10810269 0.11060739\n",
            " 0.11684408 0.12781465 0.13452724 0.13570445 0.13668128 0.13800877\n",
            " 0.12515967 0.13375078 0.14642455 0.14509706 0.14256731 0.1377583\n",
            " 0.14647464 0.16115216 0.17092048 0.16961803 0.181866   0.17257358\n",
            " 0.16904195 0.18149029 0.16385723 0.16105197 0.15757044 0.16568566\n",
            " 0.17232311 0.17392611 0.18407013 0.18146525 0.18169067 0.17873513\n",
            " 0.17715717 0.18827802 0.18249217 0.17051972 0.16320601 0.16363181\n",
            " 0.1636819  0.17092048 0.17204759 0.1636819  0.16588604 0.15769568\n",
            " 0.14875391 0.14444584 0.13918597 0.13720726 0.13259862 0.1323732\n",
            " 0.13119599 0.15902317 0.17016907 0.16974327 0.17282405 0.16546024\n",
            " 0.15405726 0.15833184 0.16118535 0.16294123 0.16397791 0.16459197\n",
            " 0.16497551 0.16523646 0.16542847 0.16557452 0.16568324 0.16575782\n",
            " 0.16580029 0.16581301 0.16579913 0.16576216 0.16570576 0.16563357\n",
            " 0.16554898 0.16545495 0.16535413 0.1652488  0.16514084 0.16503197\n",
            " 0.16492337 0.16481631 0.16471158 0.16460988]\n",
            "28 day output [[0.16451167]]\n",
            "29 day input [0.10469631 0.1063995  0.10522229 0.11453976 0.10760175 0.10549781\n",
            " 0.10815279 0.11183469 0.1105072  0.1113087  0.10920476 0.1101315\n",
            " 0.10289292 0.10276769 0.10807765 0.10810269 0.11060739 0.11684408\n",
            " 0.12781465 0.13452724 0.13570445 0.13668128 0.13800877 0.12515967\n",
            " 0.13375078 0.14642455 0.14509706 0.14256731 0.1377583  0.14647464\n",
            " 0.16115216 0.17092048 0.16961803 0.181866   0.17257358 0.16904195\n",
            " 0.18149029 0.16385723 0.16105197 0.15757044 0.16568566 0.17232311\n",
            " 0.17392611 0.18407013 0.18146525 0.18169067 0.17873513 0.17715717\n",
            " 0.18827802 0.18249217 0.17051972 0.16320601 0.16363181 0.1636819\n",
            " 0.17092048 0.17204759 0.1636819  0.16588604 0.15769568 0.14875391\n",
            " 0.14444584 0.13918597 0.13720726 0.13259862 0.1323732  0.13119599\n",
            " 0.15902317 0.17016907 0.16974327 0.17282405 0.16546024 0.15405726\n",
            " 0.15833184 0.16118535 0.16294123 0.16397791 0.16459197 0.16497551\n",
            " 0.16523646 0.16542847 0.16557452 0.16568324 0.16575782 0.16580029\n",
            " 0.16581301 0.16579913 0.16576216 0.16570576 0.16563357 0.16554898\n",
            " 0.16545495 0.16535413 0.1652488  0.16514084 0.16503197 0.16492337\n",
            " 0.16481631 0.16471158 0.16460988 0.16451167]\n",
            "29 day output [[0.1644174]]\n",
            "[[0.15405726432800293], [0.15833184123039246], [0.1611853539943695], [0.16294123232364655], [0.16397790610790253], [0.1645919680595398], [0.16497550904750824], [0.1652364581823349], [0.16542847454547882], [0.16557452082633972], [0.16568323969841003], [0.16575782001018524], [0.1658002883195877], [0.16581301391124725], [0.1657991260290146], [0.16576215624809265], [0.16570575535297394], [0.16563357412815094], [0.16554898023605347], [0.1654549539089203], [0.16535413265228271], [0.1652487963438034], [0.16514083743095398], [0.16503196954727173], [0.16492336988449097], [0.16481630504131317], [0.1647115796804428], [0.1646098792552948], [0.16451166570186615], [0.16441740095615387]]\n"
          ]
        }
      ],
      "source": [
        "# demonstrate prediction for next 30 days\n",
        "from numpy import array\n",
        "\n",
        "lst_output=[]\n",
        "n_steps=100\n",
        "i=0\n",
        "while(i<30):\n",
        "    \n",
        "    if(len(temp_input)>100):\n",
        "        #print(temp_input)\n",
        "        x_input=np.array(temp_input[1:])\n",
        "        print(\"{} day input {}\".format(i,x_input))\n",
        "        x_input=x_input.reshape(1,-1)\n",
        "        x_input = x_input.reshape((1, n_steps, 1))\n",
        "        #print(x_input)\n",
        "        yhat = model.predict(x_input, verbose=0)\n",
        "        print(\"{} day output {}\".format(i,yhat))\n",
        "        temp_input.extend(yhat[0].tolist())\n",
        "        temp_input=temp_input[1:]\n",
        "        #print(temp_input)\n",
        "        lst_output.extend(yhat.tolist())\n",
        "        i=i+1\n",
        "    else:\n",
        "        x_input = x_input.reshape((1, n_steps,1))\n",
        "        yhat = model.predict(x_input, verbose=0)\n",
        "        print(yhat[0])\n",
        "        temp_input.extend(yhat[0].tolist())\n",
        "        print(len(temp_input))\n",
        "        lst_output.extend(yhat.tolist())\n",
        "        i=i+1\n",
        "    \n",
        "\n",
        "print(lst_output)"
      ]
    },
    {
      "cell_type": "code",
      "execution_count": 124,
      "metadata": {
        "id": "BoXUwcXeazxR"
      },
      "outputs": [],
      "source": [
        "day_new=np.arange(1,101)\n",
        "day_pred=np.arange(101,131)"
      ]
    },
    {
      "cell_type": "code",
      "execution_count": 125,
      "metadata": {
        "id": "2pxG5d-YazxR"
      },
      "outputs": [],
      "source": [
        "import matplotlib.pyplot as plt"
      ]
    },
    {
      "cell_type": "code",
      "execution_count": 126,
      "metadata": {
        "id": "xnqXsFosazxS",
        "outputId": "8ee1b12c-c7cb-47f3-d234-ac8f41656e82",
        "colab": {
          "base_uri": "https://localhost:8080/"
        }
      },
      "outputs": [
        {
          "output_type": "execute_result",
          "data": {
            "text/plain": [
              "1259"
            ]
          },
          "metadata": {},
          "execution_count": 126
        }
      ],
      "source": [
        "len(df1)"
      ]
    },
    {
      "cell_type": "markdown",
      "source": [
        "## **new 30 days output**"
      ],
      "metadata": {
        "id": "bXhsJnlk0EW1"
      }
    },
    {
      "cell_type": "code",
      "execution_count": 127,
      "metadata": {
        "id": "IbeNZ6wGazxS",
        "outputId": "0d7e1142-5ae3-4f39-8c26-38c132841bb3",
        "colab": {
          "base_uri": "https://localhost:8080/",
          "height": 282
        }
      },
      "outputs": [
        {
          "output_type": "execute_result",
          "data": {
            "text/plain": [
              "[<matplotlib.lines.Line2D at 0x7fcd29f355d0>]"
            ]
          },
          "metadata": {},
          "execution_count": 127
        },
        {
          "output_type": "display_data",
          "data": {
            "image/png": "[encoded data removed]",
            "text/plain": [
              "<Figure size 432x288 with 1 Axes>"
            ]
          },
          "metadata": {
            "needs_background": "light"
          }
        }
      ],
      "source": [
        "plt.plot(day_new,scaler.inverse_transform(df1[1159:]))\n",
        "plt.plot(day_pred,scaler.inverse_transform(lst_output))"
      ]
    },
    {
      "cell_type": "code",
      "execution_count": 128,
      "metadata": {
        "id": "eZOw9JozazxT",
        "outputId": "10e00be5-f319-4c1f-91b5-293237863b63",
        "colab": {
          "base_uri": "https://localhost:8080/",
          "height": 282
        }
      },
      "outputs": [
        {
          "output_type": "execute_result",
          "data": {
            "text/plain": [
              "[<matplotlib.lines.Line2D at 0x7fcd2a11bc90>]"
            ]
          },
          "metadata": {},
          "execution_count": 128
        },
        {
          "output_type": "display_data",
          "data": {
            "image/png": "[encoded data removed]",
            "text/plain": [
              "<Figure size 432x288 with 1 Axes>"
            ]
          },
          "metadata": {
            "needs_background": "light"
          }
        }
      ],
      "source": [
        "df3=df1.tolist()\n",
        "df3.extend(lst_output)\n",
        "plt.plot(df3[1159:])"
      ]
    },
    {
      "cell_type": "code",
      "execution_count": 129,
      "metadata": {
        "id": "iphA7uWmazxT"
      },
      "outputs": [],
      "source": [
        "df3=scaler.inverse_transform(df3).tolist()"
      ]
    },
    {
      "cell_type": "code",
      "execution_count": 131,
      "metadata": {
        "id": "lEc7gkleazxU",
        "outputId": "4030102d-7917-4c81-cf41-41789ccfda9a",
        "colab": {
          "base_uri": "https://localhost:8080/",
          "height": 282
        }
      },
      "outputs": [
        {
          "output_type": "execute_result",
          "data": {
            "text/plain": [
              "[<matplotlib.lines.Line2D at 0x7fcd2653ec50>]"
            ]
          },
          "metadata": {},
          "execution_count": 131
        },
        {
          "output_type": "display_data",
          "data": {
            "image/png": "[encoded data removed]",
            "text/plain": [
              "<Figure size 432x288 with 1 Axes>"
            ]
          },
          "metadata": {
            "needs_background": "light"
          }
        }
      ],
      "source": [
        "plt.plot(df3[1259:])"
      ]
    },
    {
      "cell_type": "markdown",
      "source": [
        "## **END**"
      ],
      "metadata": {
        "id": "j68e0wgcyHOC"
      }
    }
  ],
  "metadata": {
    "kernelspec": {
      "display_name": "Python 3",
      "language": "python",
      "name": "python3"
    },
    "language_info": {
      "codemirror_mode": {
        "name": "ipython",
        "version": 3
      },
      "file_extension": ".py",
      "mimetype": "text/x-python",
      "name": "python",
      "nbconvert_exporter": "python",
      "pygments_lexer": "ipython3",
      "version": "3.6.9"
    },
    "colab": {
      "name": "Stock Market Prediction And Forecasting Using Stacked LSTM",
      "provenance": [],
      "collapsed_sections": [
        "ioh-A43NnGi2",
        "ZLnnKoXrnuM7",
        "j68e0wgcyHOC"
      ]
    }
  },
  "nbformat": 4,
  "nbformat_minor": 0
}